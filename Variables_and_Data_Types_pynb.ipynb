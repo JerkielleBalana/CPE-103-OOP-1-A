{
  "nbformat": 4,
  "nbformat_minor": 0,
  "metadata": {
    "colab": {
      "provenance": [],
      "toc_visible": true,
      "authorship_tag": "ABX9TyOCMCcTl1PHy5xOXArDSNKa",
      "include_colab_link": true
    },
    "kernelspec": {
      "name": "python3",
      "display_name": "Python 3"
    },
    "language_info": {
      "name": "python"
    }
  },
  "cells": [
    {
      "cell_type": "markdown",
      "metadata": {
        "id": "view-in-github",
        "colab_type": "text"
      },
      "source": [
        "<a href=\"https://colab.research.google.com/github/JerkielleBalana/CPE-103-OOP-1-A/blob/main/Variables_and_Data_Types_pynb.ipynb\" target=\"_parent\"><img src=\"https://colab.research.google.com/assets/colab-badge.svg\" alt=\"Open In Colab\"/></a>"
      ]
    },
    {
      "cell_type": "markdown",
      "source": [
        "Numbers"
      ],
      "metadata": {
        "id": "Cfflec6U0SUJ"
      }
    },
    {
      "cell_type": "code",
      "source": [
        "varNumb = 123\n",
        "pi = 3.14159"
      ],
      "metadata": {
        "id": "nwuYZgmK0VSB"
      },
      "execution_count": null,
      "outputs": []
    },
    {
      "cell_type": "markdown",
      "source": [
        "Strings"
      ],
      "metadata": {
        "id": "ee8kP6bA0ZJJ"
      }
    },
    {
      "cell_type": "code",
      "source": [
        "varString = 'Hellow World!'\n",
        "varText = ' This is a Strings'"
      ],
      "metadata": {
        "id": "knsNAuAx0aBi"
      },
      "execution_count": null,
      "outputs": []
    },
    {
      "cell_type": "markdown",
      "source": [
        "Lists"
      ],
      "metadata": {
        "id": "bGmeL_6g0i2h"
      }
    },
    {
      "cell_type": "code",
      "source": [
        "varList = ['abc', 123]"
      ],
      "metadata": {
        "id": "6sVnsRKn0jzS"
      },
      "execution_count": null,
      "outputs": []
    },
    {
      "cell_type": "markdown",
      "source": [
        "Tuples"
      ],
      "metadata": {
        "id": "dVbxB3Tk0qRR"
      }
    },
    {
      "cell_type": "code",
      "source": [
        "varTuples = ('abc', 123, 'HELLO')\n"
      ],
      "metadata": {
        "id": "nxrQzNPi0raR"
      },
      "execution_count": null,
      "outputs": []
    },
    {
      "cell_type": "markdown",
      "source": [
        "Dictionaries"
      ],
      "metadata": {
        "id": "kj-gCaKY0xhY"
      }
    },
    {
      "cell_type": "code",
      "source": [
        "var = 3\n",
        "varDict = {'first':1 , '2' : '2nd', 3:var}\n",
        "varDict = {}\n",
        "varDict= ['first']= 1\n",
        "varDict ['2'] = '2nd'\n",
        "varDict[3] = var"
      ],
      "metadata": {
        "colab": {
          "base_uri": "https://localhost:8080/",
          "height": 106
        },
        "id": "fAhD59Lu00vA",
        "outputId": "09a667c9-6990-41cd-bc74-b4b3608042b1"
      },
      "execution_count": 35,
      "outputs": [
        {
          "output_type": "error",
          "ename": "SyntaxError",
          "evalue": "cannot assign to literal (<ipython-input-35-0be8367db4a5>, line 4)",
          "traceback": [
            "\u001b[0;36m  File \u001b[0;32m\"<ipython-input-35-0be8367db4a5>\"\u001b[0;36m, line \u001b[0;32m4\u001b[0m\n\u001b[0;31m    varDict= ['first']= 1\u001b[0m\n\u001b[0m              ^\u001b[0m\n\u001b[0;31mSyntaxError\u001b[0m\u001b[0;31m:\u001b[0m cannot assign to literal\n"
          ]
        }
      ]
    },
    {
      "cell_type": "markdown",
      "source": [
        "Arithmetic"
      ],
      "metadata": {
        "id": "nTTs4XdH2XjJ"
      }
    },
    {
      "cell_type": "markdown",
      "source": [
        "Addition"
      ],
      "metadata": {
        "id": "0FwL5OSc2e9h"
      }
    },
    {
      "cell_type": "code",
      "source": [
        " a = 5 + 3\n",
        " print (a)"
      ],
      "metadata": {
        "colab": {
          "base_uri": "https://localhost:8080/"
        },
        "id": "VrTdfh8P2aGa",
        "outputId": "8b0fadee-d11c-4daf-8d0a-6f3ec91f5036"
      },
      "execution_count": 12,
      "outputs": [
        {
          "output_type": "stream",
          "name": "stdout",
          "text": [
            "8\n"
          ]
        }
      ]
    },
    {
      "cell_type": "markdown",
      "source": [
        "Substraction"
      ],
      "metadata": {
        "id": "5-b_GH__2i1a"
      }
    },
    {
      "cell_type": "code",
      "source": [
        "a = 5 - 3\n",
        "print (a)"
      ],
      "metadata": {
        "colab": {
          "base_uri": "https://localhost:8080/"
        },
        "id": "c4Pa3NWz2keK",
        "outputId": "1d9e1905-fe29-4d2a-fe9e-0a69b6fd6b6f"
      },
      "execution_count": 13,
      "outputs": [
        {
          "output_type": "stream",
          "name": "stdout",
          "text": [
            "2\n"
          ]
        }
      ]
    },
    {
      "cell_type": "markdown",
      "source": [
        "Multiplication"
      ],
      "metadata": {
        "id": "w6ZThtxS2mZB"
      }
    },
    {
      "cell_type": "code",
      "source": [
        "a = 5 * 3\n",
        "print (a)"
      ],
      "metadata": {
        "colab": {
          "base_uri": "https://localhost:8080/"
        },
        "id": "11JivJjP2qYZ",
        "outputId": "8bee6504-192c-4771-b068-c4e3800cf0b1"
      },
      "execution_count": 14,
      "outputs": [
        {
          "output_type": "stream",
          "name": "stdout",
          "text": [
            "15\n"
          ]
        }
      ]
    },
    {
      "cell_type": "markdown",
      "source": [
        "Exponent"
      ],
      "metadata": {
        "id": "AaEIypn-2tGK"
      }
    },
    {
      "cell_type": "code",
      "source": [
        "a = 5 ** 3\n",
        "print (a)\n"
      ],
      "metadata": {
        "colab": {
          "base_uri": "https://localhost:8080/"
        },
        "id": "VSiteUYc3Wwa",
        "outputId": "055380dc-ef34-4bdf-e522-4b2c81c8d43f"
      },
      "execution_count": 15,
      "outputs": [
        {
          "output_type": "stream",
          "name": "stdout",
          "text": [
            "125\n"
          ]
        }
      ]
    },
    {
      "cell_type": "markdown",
      "source": [
        "Division"
      ],
      "metadata": {
        "id": "RzF5Gl1M3aMR"
      }
    },
    {
      "cell_type": "code",
      "source": [
        "a = 5 / 3\n",
        "a = 5 % 3\n",
        "a = 5 // 3\n",
        "print (a)"
      ],
      "metadata": {
        "colab": {
          "base_uri": "https://localhost:8080/"
        },
        "id": "kPuTqC8E3dHd",
        "outputId": "50792be1-bfb4-4a20-823d-92ad2e77f8dd"
      },
      "execution_count": 7,
      "outputs": [
        {
          "output_type": "stream",
          "name": "stdout",
          "text": [
            "1\n"
          ]
        }
      ]
    },
    {
      "cell_type": "markdown",
      "source": [
        "Increment/ Decrement"
      ],
      "metadata": {
        "id": "cpfh7WFx3l3a"
      }
    },
    {
      "cell_type": "code",
      "source": [
        "a = 5\n",
        "a +=1\n",
        "print (a)"
      ],
      "metadata": {
        "id": "fqfvEB-43qf5"
      },
      "execution_count": null,
      "outputs": []
    },
    {
      "cell_type": "markdown",
      "source": [
        "Decrement"
      ],
      "metadata": {
        "id": "ah3nS6p43wFB"
      }
    },
    {
      "cell_type": "code",
      "source": [
        "a = 5\n",
        "a -=1\n",
        "print (a)"
      ],
      "metadata": {
        "colab": {
          "base_uri": "https://localhost:8080/"
        },
        "id": "EepZUaU33x6B",
        "outputId": "713b0a1c-4297-44cd-dcc6-d48cc730f0fc"
      },
      "execution_count": 9,
      "outputs": [
        {
          "output_type": "stream",
          "name": "stdout",
          "text": [
            "4\n"
          ]
        }
      ]
    },
    {
      "cell_type": "markdown",
      "source": [
        "String Concanetation"
      ],
      "metadata": {
        "id": "r_rse1Pl305a"
      }
    },
    {
      "cell_type": "code",
      "source": [
        "a = 'Hello' + 'World'\n",
        "print (a)"
      ],
      "metadata": {
        "colab": {
          "base_uri": "https://localhost:8080/"
        },
        "id": "fzfj-hPy33C5",
        "outputId": "d07d9e3b-2f9d-44e1-cce0-5ab464efb62b"
      },
      "execution_count": 10,
      "outputs": [
        {
          "output_type": "stream",
          "name": "stdout",
          "text": [
            "HelloWorld\n"
          ]
        }
      ]
    },
    {
      "cell_type": "markdown",
      "source": [
        "Complex Expressions"
      ],
      "metadata": {
        "id": "UMonSqay37Vi"
      }
    },
    {
      "cell_type": "code",
      "source": [
        "a = 3 + 5 - 6 * 2 / 4\n",
        "print (a)"
      ],
      "metadata": {
        "colab": {
          "base_uri": "https://localhost:8080/"
        },
        "id": "2Gi8NtrF3_Qh",
        "outputId": "022dae8b-3114-4674-a42f-a9e0db860376"
      },
      "execution_count": 11,
      "outputs": [
        {
          "output_type": "stream",
          "name": "stdout",
          "text": [
            "5.0\n"
          ]
        }
      ]
    },
    {
      "cell_type": "markdown",
      "source": [
        "Boolean Conditions"
      ],
      "metadata": {
        "id": "Wqm1BMcf3-Ip"
      }
    },
    {
      "cell_type": "code",
      "source": [
        "x = True\n",
        "if x :\n",
        "  print ( \"var x is True\")\n",
        "else:\n",
        "    print (\"var x is False\")"
      ],
      "metadata": {
        "colab": {
          "base_uri": "https://localhost:8080/"
        },
        "id": "QDLO33kD4GOT",
        "outputId": "9a86508c-a5a2-4487-eb80-43c28d2aec44"
      },
      "execution_count": 4,
      "outputs": [
        {
          "output_type": "stream",
          "name": "stdout",
          "text": [
            "var x is True\n"
          ]
        }
      ]
    },
    {
      "cell_type": "markdown",
      "source": [
        "String Conditions\n"
      ],
      "metadata": {
        "id": "TpzpXgie4jFC"
      }
    },
    {
      "cell_type": "code",
      "source": [
        "x = \"Hello World!\"\n",
        "if x == 'Hello World!' :\n",
        " print(\"var x is Hello World!\")\n",
        "else:\n",
        "  print(\"var x is not Hello World!\")"
      ],
      "metadata": {
        "colab": {
          "base_uri": "https://localhost:8080/"
        },
        "id": "HTPcSdIy4lhz",
        "outputId": "753784f6-662e-4adf-df22-a7aab5e02e83"
      },
      "execution_count": 5,
      "outputs": [
        {
          "output_type": "stream",
          "name": "stdout",
          "text": [
            "var x is Hello World!\n"
          ]
        }
      ]
    },
    {
      "cell_type": "markdown",
      "source": [
        "Numerical Conditions"
      ],
      "metadata": {
        "id": "0mbCnp3845VS"
      }
    },
    {
      "cell_type": "code",
      "source": [
        "x = 10\n",
        "if x == '10':\n",
        " print(\"var x is a string\")\n",
        "elif x == 10:\n",
        "  print(\"var x is an integer\")\n",
        "else:\n",
        "  print(\"var x is none of the above\")"
      ],
      "metadata": {
        "colab": {
          "base_uri": "https://localhost:8080/"
        },
        "id": "9EhtjIK447cq",
        "outputId": "d0603cb6-061a-4d66-b517-43a531ea13e3"
      },
      "execution_count": 6,
      "outputs": [
        {
          "output_type": "stream",
          "name": "stdout",
          "text": [
            "var x is an integer\n"
          ]
        }
      ]
    },
    {
      "cell_type": "markdown",
      "source": [
        "Loops"
      ],
      "metadata": {
        "id": "eDluJsfq52YY"
      }
    },
    {
      "cell_type": "code",
      "source": [
        "#For Loops\n",
        "for var in range (0, 5,2):\n",
        "  print (var)\n"
      ],
      "metadata": {
        "colab": {
          "base_uri": "https://localhost:8080/"
        },
        "id": "VrtlrYt554G5",
        "outputId": "c81f8fb9-832f-4b29-f4d0-58eec0f3f041"
      },
      "execution_count": 16,
      "outputs": [
        {
          "output_type": "stream",
          "name": "stdout",
          "text": [
            "0\n",
            "2\n",
            "4\n"
          ]
        }
      ]
    },
    {
      "cell_type": "code",
      "source": [
        "#While Loops\n",
        "var = 0\n",
        "while var < 5:\n",
        "  print (var)\n",
        "  var += 2"
      ],
      "metadata": {
        "colab": {
          "base_uri": "https://localhost:8080/"
        },
        "id": "nazKMs_U6FL6",
        "outputId": "a55b495e-343f-43f5-eeb0-11b08efb7225"
      },
      "execution_count": 17,
      "outputs": [
        {
          "output_type": "stream",
          "name": "stdout",
          "text": [
            "0\n",
            "2\n",
            "4\n"
          ]
        }
      ]
    },
    {
      "cell_type": "code",
      "source": [
        "#Nested Loops\n",
        "x = 0\n",
        "while x < 5:\n",
        "  for y in range (0,x):\n",
        "          print(y, end='')\n",
        "        x+= 1\n",
        "          print()"
      ],
      "metadata": {
        "colab": {
          "base_uri": "https://localhost:8080/",
          "height": 106
        },
        "id": "1lftxa5Y6W94",
        "outputId": "6557e245-e32a-478f-8c44-2728fd173757"
      },
      "execution_count": 21,
      "outputs": [
        {
          "output_type": "error",
          "ename": "IndentationError",
          "evalue": "unindent does not match any outer indentation level (<tokenize>, line 6)",
          "traceback": [
            "\u001b[0;36m  File \u001b[0;32m\"<tokenize>\"\u001b[0;36m, line \u001b[0;32m6\u001b[0m\n\u001b[0;31m    x+= 1\u001b[0m\n\u001b[0m    ^\u001b[0m\n\u001b[0;31mIndentationError\u001b[0m\u001b[0;31m:\u001b[0m unindent does not match any outer indentation level\n"
          ]
        }
      ]
    },
    {
      "cell_type": "markdown",
      "source": [
        "Functions"
      ],
      "metadata": {
        "id": "8biVtnYB6zHi"
      }
    },
    {
      "cell_type": "code",
      "source": [
        "def remainder (n,m):\n",
        "  while True :\n",
        "    if n - m < 0:\n",
        "      return n\n",
        "    else:\n",
        "        n = n - m\n",
        "remainder(10,4)"
      ],
      "metadata": {
        "colab": {
          "base_uri": "https://localhost:8080/"
        },
        "id": "k6_tIGmT64qo",
        "outputId": "43758791-4d51-4ec6-ed3e-ddbcf3b6ea97"
      },
      "execution_count": 23,
      "outputs": [
        {
          "output_type": "execute_result",
          "data": {
            "text/plain": [
              "2"
            ]
          },
          "metadata": {},
          "execution_count": 23
        }
      ]
    },
    {
      "cell_type": "markdown",
      "source": [
        "List"
      ],
      "metadata": {
        "id": "7igMhUEF7ObR"
      }
    },
    {
      "cell_type": "code",
      "source": [
        "pi = 3.14159\n",
        "varList = [1,2,'A', 'B', 'Hello!', pi]\n",
        "print(varList[0])\n",
        "print(varList[4])\n",
        "varList.append('World!')\n",
        "print(varList[6])\n",
        "len(varList)\n",
        "print(varList[5])\n",
        "varList.remove(pi)\n",
        "print(varList[5])\n"
      ],
      "metadata": {
        "colab": {
          "base_uri": "https://localhost:8080/"
        },
        "id": "pkjzYNw77SIi",
        "outputId": "03a50a47-1ed4-4f96-e5ee-a9492515c131"
      },
      "execution_count": 43,
      "outputs": [
        {
          "output_type": "stream",
          "name": "stdout",
          "text": [
            "1\n",
            "Hello!\n",
            "World!\n",
            "3.14159\n",
            "World!\n"
          ]
        }
      ]
    },
    {
      "cell_type": "markdown",
      "source": [
        "List Generators and Comprehension"
      ],
      "metadata": {
        "id": "Mo7-PrX8_r9q"
      }
    },
    {
      "cell_type": "code",
      "source": [
        "def gen_num_up_to(n):\n",
        "  num = 0\n",
        "  while num < n :\n",
        "    yield num\n",
        "    num += 1\n",
        "varList = gen_num_up_to(5)\n",
        "print([var for var in varList])\n",
        "varList = range(0,5,2)\n",
        "print([var for var in varList])"
      ],
      "metadata": {
        "colab": {
          "base_uri": "https://localhost:8080/"
        },
        "id": "tSpjNYwH_v8S",
        "outputId": "5ca0db3a-c734-4b3f-b155-a36c4a1fbb20"
      },
      "execution_count": 39,
      "outputs": [
        {
          "output_type": "stream",
          "name": "stdout",
          "text": [
            "[0, 1, 2, 3, 4]\n",
            "[0, 2, 4]\n"
          ]
        }
      ]
    },
    {
      "cell_type": "markdown",
      "source": [
        "Slicing"
      ],
      "metadata": {
        "id": "Pl6THzTGAcOi"
      }
    },
    {
      "cell_type": "code",
      "source": [
        "varList = [1,2,3,4,5,6,7,8,9,10]\n",
        "print(varList[:5])\n",
        "print(varList[5:])\n",
        "print(varList[:-2])\n",
        "print(varList[-2:])\n",
        "print(varList[2:-2])\n",
        "print(varList[2:8:2])"
      ],
      "metadata": {
        "colab": {
          "base_uri": "https://localhost:8080/"
        },
        "id": "kxfB5aLLAeXx",
        "outputId": "c282cedb-0d03-4967-dc89-f3e934c52272"
      },
      "execution_count": 42,
      "outputs": [
        {
          "output_type": "stream",
          "name": "stdout",
          "text": [
            "[1, 2, 3, 4, 5]\n",
            "[6, 7, 8, 9, 10]\n",
            "[1, 2, 3, 4, 5, 6, 7, 8]\n",
            "[9, 10]\n",
            "[3, 4, 5, 6, 7, 8]\n",
            "[3, 5, 7]\n"
          ]
        }
      ]
    }
  ]
}