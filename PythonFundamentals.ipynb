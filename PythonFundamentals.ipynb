{
  "nbformat": 4,
  "nbformat_minor": 0,
  "metadata": {
    "colab": {
      "provenance": [],
      "authorship_tag": "ABX9TyPNiR0mO0Y+wHC463ck9VAA",
      "include_colab_link": true
    },
    "kernelspec": {
      "name": "python3",
      "display_name": "Python 3"
    },
    "language_info": {
      "name": "python"
    }
  },
  "cells": [
    {
      "cell_type": "markdown",
      "metadata": {
        "id": "view-in-github",
        "colab_type": "text"
      },
      "source": [
        "<a href=\"https://colab.research.google.com/github/JerkielleBalana/CPE-103-OOP-1-A/blob/main/PythonFundamentals.ipynb\" target=\"_parent\"><img src=\"https://colab.research.google.com/assets/colab-badge.svg\" alt=\"Open In Colab\"/></a>"
      ]
    },
    {
      "cell_type": "markdown",
      "source": [
        "Python Indentation"
      ],
      "metadata": {
        "id": "pD-HgxHJFNo8"
      }
    },
    {
      "cell_type": "code",
      "source": [
        "x = 5\n",
        "y = 2\n",
        "if x > y:\n",
        "  print (\"Five is greater than two!\")"
      ],
      "metadata": {
        "colab": {
          "base_uri": "https://localhost:8080/"
        },
        "id": "YkqO-LUqIGul",
        "outputId": "b905d40f-6b6b-4802-d719-26fec9a4dfdb"
      },
      "execution_count": null,
      "outputs": [
        {
          "output_type": "stream",
          "name": "stdout",
          "text": [
            "Five is greater than two!\n"
          ]
        }
      ]
    },
    {
      "cell_type": "markdown",
      "source": [
        "Python Comments"
      ],
      "metadata": {
        "id": "0PlXdUtcIWKW"
      }
    },
    {
      "cell_type": "code",
      "source": [
        "#This is a comment\n",
        "print(\"Hello, World!\")"
      ],
      "metadata": {
        "colab": {
          "base_uri": "https://localhost:8080/"
        },
        "id": "N-hxbLAYIssc",
        "outputId": "38bfad28-6ec9-448e-f450-4201e2817df9"
      },
      "execution_count": null,
      "outputs": [
        {
          "output_type": "stream",
          "name": "stdout",
          "text": [
            "Hello, World!\n"
          ]
        }
      ]
    },
    {
      "cell_type": "markdown",
      "source": [
        "Python Variable"
      ],
      "metadata": {
        "id": "ynZcfuUOJR81"
      }
    },
    {
      "cell_type": "code",
      "source": [
        " z = 1\n",
        "a, b=0,-1\n",
        "c = \"Sally\"\n",
        "print(a)\n",
        "print(b)\n",
        "print(z)\n",
        "print(c)\n"
      ],
      "metadata": {
        "colab": {
          "base_uri": "https://localhost:8080/"
        },
        "id": "tiMp5S4VKDK1",
        "outputId": "1ae94b35-9bab-4d66-d032-4aa18da30ffd"
      },
      "execution_count": null,
      "outputs": [
        {
          "output_type": "stream",
          "name": "stdout",
          "text": [
            "0\n",
            "-1\n",
            "1\n",
            "Sally\n"
          ]
        }
      ]
    },
    {
      "cell_type": "markdown",
      "source": [
        "Casting"
      ],
      "metadata": {
        "id": "JmFyFd11Lt1t"
      }
    },
    {
      "cell_type": "code",
      "source": [
        "b='sally' #This is a type if string\n",
        "b=int(4)\n",
        "\n",
        "b=float(4)\n",
        "print(b)"
      ],
      "metadata": {
        "colab": {
          "base_uri": "https://localhost:8080/"
        },
        "id": "2RrM7bZ2Ly8l",
        "outputId": "014a6fae-24cb-4fb4-ada5-52f19efdb1c0"
      },
      "execution_count": null,
      "outputs": [
        {
          "output_type": "stream",
          "name": "stdout",
          "text": [
            "4.0\n"
          ]
        }
      ]
    },
    {
      "cell_type": "markdown",
      "source": [
        "Type() function"
      ],
      "metadata": {
        "id": "dzm-Ya5fNGvX"
      }
    },
    {
      "cell_type": "code",
      "source": [
        "x = 5\n",
        "y = \"John\"\n",
        "print(type(x))\n",
        "print(type(y))"
      ],
      "metadata": {
        "colab": {
          "base_uri": "https://localhost:8080/"
        },
        "id": "_136OGWjMz-t",
        "outputId": "a4e12fcb-9629-418f-85b7-2fc356865e2c"
      },
      "execution_count": null,
      "outputs": [
        {
          "output_type": "stream",
          "name": "stdout",
          "text": [
            "<class 'int'>\n",
            "<class 'str'>\n"
          ]
        }
      ]
    },
    {
      "cell_type": "markdown",
      "source": [
        "\"Double quotes\" or 'single' quotes"
      ],
      "metadata": {
        "id": "LxN2WcQjNkse"
      }
    },
    {
      "cell_type": "code",
      "source": [
        "y = \"John\"\n",
        "y = 'John'\n",
        "print(y)"
      ],
      "metadata": {
        "colab": {
          "base_uri": "https://localhost:8080/"
        },
        "id": "FHyJzeeqOBar",
        "outputId": "6d3e4d01-2650-4cf7-80b3-17efd91d02cd"
      },
      "execution_count": null,
      "outputs": [
        {
          "output_type": "stream",
          "name": "stdout",
          "text": [
            "John\n"
          ]
        }
      ]
    },
    {
      "cell_type": "markdown",
      "source": [
        "Case sensitive"
      ],
      "metadata": {
        "id": "O5OUr5E_OT_F"
      }
    },
    {
      "cell_type": "code",
      "source": [
        "a = 4\n",
        "A = \"Sally\"\n",
        "#A will not overwrite a"
      ],
      "metadata": {
        "id": "h43P36JNOZGU"
      },
      "execution_count": null,
      "outputs": []
    },
    {
      "cell_type": "markdown",
      "source": [
        "Multiple Variables"
      ],
      "metadata": {
        "id": "9BZ97mnWOk1t"
      }
    },
    {
      "cell_type": "code",
      "source": [
        "x, y, z= \"one\", \"two\", \"three\"\n",
        "print(x)\n",
        "print(y)\n",
        "print(z)"
      ],
      "metadata": {
        "colab": {
          "base_uri": "https://localhost:8080/"
        },
        "id": "BCIVjTatOyhs",
        "outputId": "3778f817-d5ab-40ca-f5c3-53c2b93acbb8"
      },
      "execution_count": null,
      "outputs": [
        {
          "output_type": "stream",
          "name": "stdout",
          "text": [
            "one\n",
            "two\n",
            "three\n"
          ]
        }
      ]
    },
    {
      "cell_type": "markdown",
      "source": [
        "One Value to Multiple Variables"
      ],
      "metadata": {
        "id": "2-lm1an-Pb_Q"
      }
    },
    {
      "cell_type": "code",
      "source": [
        "x = y = z= \"four\"\n",
        "print(x)\n",
        "print(y)\n",
        "print(z)"
      ],
      "metadata": {
        "colab": {
          "base_uri": "https://localhost:8080/"
        },
        "id": "nTEUM2IjPfOV",
        "outputId": "61533bf9-5e9d-4573-d7b3-51b384fde90c"
      },
      "execution_count": null,
      "outputs": [
        {
          "output_type": "stream",
          "name": "stdout",
          "text": [
            "four\n",
            "four\n",
            "four\n"
          ]
        }
      ]
    },
    {
      "cell_type": "markdown",
      "source": [
        "Output Variables"
      ],
      "metadata": {
        "id": "R_stZMYmPoVF"
      }
    },
    {
      "cell_type": "code",
      "source": [
        "x = \"enjoying\"\n",
        "print (\"Python programming is \"+ x)"
      ],
      "metadata": {
        "colab": {
          "base_uri": "https://localhost:8080/"
        },
        "id": "jRbHGBn_PuDt",
        "outputId": "440b0ee7-7d7c-44d0-8f2c-5014c4c877fe"
      },
      "execution_count": null,
      "outputs": [
        {
          "output_type": "stream",
          "name": "stdout",
          "text": [
            "Python programming is enjoying\n"
          ]
        }
      ]
    },
    {
      "cell_type": "markdown",
      "source": [
        "Arithmetic Operations"
      ],
      "metadata": {
        "id": "kGUqd4wMQAA-"
      }
    },
    {
      "cell_type": "code",
      "source": [
        "#Exponentiation\n",
        "x = 10\n",
        "y= 3\n",
        "print (x**2)\n",
        "#Division\n",
        "print (x/y)\n",
        "#FloorDivision\n",
        "print (x // y)\n",
        "#Modulo\n",
        "print (x%y)\n"
      ],
      "metadata": {
        "colab": {
          "base_uri": "https://localhost:8080/"
        },
        "id": "i2Q_Q7LgQQA2",
        "outputId": "e307a9f9-9b43-43fb-f1ad-4a5808885666"
      },
      "execution_count": null,
      "outputs": [
        {
          "output_type": "stream",
          "name": "stdout",
          "text": [
            "100\n",
            "3.3333333333333335\n",
            "3\n",
            "1\n"
          ]
        }
      ]
    },
    {
      "cell_type": "markdown",
      "source": [
        "Assignment Operators"
      ],
      "metadata": {
        "id": "SNq9BRK2Rs9t"
      }
    },
    {
      "cell_type": "code",
      "source": [
        "x = 3\n",
        "x*=3 # x - x*3\n",
        "print (x)"
      ],
      "metadata": {
        "colab": {
          "base_uri": "https://localhost:8080/"
        },
        "id": "OHcIKgB-RyUW",
        "outputId": "1469e47c-c9c3-4a45-8d7a-3ebc545f9db4"
      },
      "execution_count": null,
      "outputs": [
        {
          "output_type": "stream",
          "name": "stdout",
          "text": [
            "9\n"
          ]
        }
      ]
    },
    {
      "cell_type": "markdown",
      "source": [
        "Comparison Operators"
      ],
      "metadata": {
        "id": "DlGvFZdJScTe"
      }
    },
    {
      "cell_type": "code",
      "source": [
        "x = 5\n",
        "y = 2\n",
        "x>y"
      ],
      "metadata": {
        "colab": {
          "base_uri": "https://localhost:8080/"
        },
        "id": "Sm6yfdEzSnk9",
        "outputId": "906e64e1-e42b-4beb-cfe0-df6fa6fc1d9f"
      },
      "execution_count": null,
      "outputs": [
        {
          "output_type": "execute_result",
          "data": {
            "text/plain": [
              "True"
            ]
          },
          "metadata": {},
          "execution_count": 39
        }
      ]
    },
    {
      "cell_type": "markdown",
      "source": [
        "Logical Operators"
      ],
      "metadata": {
        "id": "1p1Hxys9S8y9"
      }
    },
    {
      "cell_type": "code",
      "source": [
        "x = 5\n",
        "y = 2\n",
        "not(x>y)"
      ],
      "metadata": {
        "colab": {
          "base_uri": "https://localhost:8080/"
        },
        "id": "w6HO3fZ3S_XX",
        "outputId": "aa14c5ce-7c91-4f10-cc35-d18fca8aa89a"
      },
      "execution_count": null,
      "outputs": [
        {
          "output_type": "execute_result",
          "data": {
            "text/plain": [
              "False"
            ]
          },
          "metadata": {},
          "execution_count": 40
        }
      ]
    },
    {
      "cell_type": "markdown",
      "source": [
        "Identity Operators"
      ],
      "metadata": {
        "id": "vl59zdHJTRFG"
      }
    },
    {
      "cell_type": "code",
      "source": [
        "a,b,c= 0, -1, 5\n",
        "a is c"
      ],
      "metadata": {
        "colab": {
          "base_uri": "https://localhost:8080/"
        },
        "id": "rGtxR5aLTUa2",
        "outputId": "5f0eea9e-8166-4445-fd60-695eb4c949a0"
      },
      "execution_count": null,
      "outputs": [
        {
          "output_type": "execute_result",
          "data": {
            "text/plain": [
              "False"
            ]
          },
          "metadata": {},
          "execution_count": 59
        }
      ]
    },
    {
      "cell_type": "markdown",
      "source": [
        "Bitwise Operators"
      ],
      "metadata": {
        "id": "9ptqa9oZTUul"
      }
    },
    {
      "cell_type": "code",
      "source": [
        "#decimal to binary\n",
        "#10 = 1010\n",
        "x = 10\n",
        "print(x>>1)\n"
      ],
      "metadata": {
        "colab": {
          "base_uri": "https://localhost:8080/"
        },
        "id": "mrxQeLcsTYM1",
        "outputId": "b2ff980d-bcd2-4b06-e9c8-356c350df353"
      },
      "execution_count": null,
      "outputs": [
        {
          "output_type": "stream",
          "name": "stdout",
          "text": [
            "5\n"
          ]
        }
      ]
    },
    {
      "cell_type": "markdown",
      "source": [
        "Application 1"
      ],
      "metadata": {
        "id": "5p6x9ibmYD8G"
      }
    },
    {
      "cell_type": "code",
      "source": [
        "#Application 1\n",
        "import math\n",
        "#Rectangle\n",
        "length = 56\n",
        "width = 10\n",
        "print(x*y)\n",
        "\n",
        "#Triangle\n",
        "length = 56\n",
        "width = 10\n",
        "print (x*y/2)\n",
        "\n",
        "#Circle\n",
        "\n",
        "radius =float(input(\"Enter the radius of the circle: \"))\n",
        "area = math.pi * radius **2\n",
        "circumference = 2 * math.pi * radius\n",
        "\n",
        "print(f\"Area of the circle:{area}\")\n",
        "print(f\"Circumference of the circle: {circumference}\")"
      ],
      "metadata": {
        "colab": {
          "base_uri": "https://localhost:8080/"
        },
        "id": "WBRYIDl5YG3e",
        "outputId": "cc59c285-4eea-4fb7-eff8-be5441e872aa"
      },
      "execution_count": 94,
      "outputs": [
        {
          "output_type": "stream",
          "name": "stdout",
          "text": [
            "560\n",
            "280.0\n",
            "Enter the radius of the circle: 4\n",
            "Area of the circle:50.26548245743669\n",
            "Circumference of the circle: 25.132741228718345\n"
          ]
        }
      ]
    }
  ]
}