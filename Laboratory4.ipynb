{
  "nbformat": 4,
  "nbformat_minor": 0,
  "metadata": {
    "colab": {
      "provenance": [],
      "authorship_tag": "ABX9TyNXeicGvq3p+2pba6Wadqf8",
      "include_colab_link": true
    },
    "kernelspec": {
      "name": "python3",
      "display_name": "Python 3"
    },
    "language_info": {
      "name": "python"
    }
  },
  "cells": [
    {
      "cell_type": "markdown",
      "metadata": {
        "id": "view-in-github",
        "colab_type": "text"
      },
      "source": [
        "<a href=\"https://colab.research.google.com/github/JerkielleBalana/CPE-103-OOP-1-A/blob/main/Laboratory4.ipynb\" target=\"_parent\"><img src=\"https://colab.research.google.com/assets/colab-badge.svg\" alt=\"Open In Colab\"/></a>"
      ]
    },
    {
      "cell_type": "markdown",
      "source": [
        "List"
      ],
      "metadata": {
        "id": "bjUIIl9tOFf0"
      }
    },
    {
      "cell_type": "code",
      "execution_count": 1,
      "metadata": {
        "colab": {
          "base_uri": "https://localhost:8080/"
        },
        "id": "w32FXJxEOEOP",
        "outputId": "e6e4121d-1598-4ab9-881a-5621361fe53b"
      },
      "outputs": [
        {
          "output_type": "stream",
          "name": "stdout",
          "text": [
            "5\n",
            "5\n",
            "4\n",
            "2\n",
            "1\n",
            "3\n",
            "3\n",
            "1\n",
            "2\n",
            "4\n",
            "5\n"
          ]
        }
      ],
      "source": [
        "numberlist = [5, 4, 2, 1, 3]\n",
        "print(len(numberlist))\n",
        "print(numberlist[0])\n",
        "print(numberlist[1])\n",
        "print(numberlist[2])\n",
        "print(numberlist[3])\n",
        "print(numberlist[4])\n",
        "print(numberlist[-1])\n",
        "print(numberlist[-2])\n",
        "print(numberlist[-3])\n",
        "print(numberlist[-4])\n",
        "print(numberlist[-5])"
      ]
    },
    {
      "cell_type": "markdown",
      "source": [
        "Observation: This Python program defines a list of numbers (numberlist = [5, 4, 2, 1, 3]) and demonstrates accessing its elements using both positive and negative indexing."
      ],
      "metadata": {
        "id": "y-aDnXffPR02"
      }
    },
    {
      "cell_type": "code",
      "source": [
        "itemlist = [1, -2.0, [1,2,3], \"Word\"]\n",
        "print(len(itemlist))\n",
        "print(itemlist[0])\n",
        "print(itemlist[1])\n",
        "print(itemlist[2])\n",
        "print(itemlist[3])\n",
        "print(\"\")\n",
        "print(len(itemlist[2]))\n",
        "print(itemlist[2][0])\n",
        "print(itemlist[2][1])\n",
        "print(itemlist[2][2])\n",
        "print(itemlist[-1])\n",
        "print(itemlist[-2])\n",
        "print(itemlist[-3])\n",
        "print(itemlist[-4])\n",
        "print(\"\")\n",
        "print(len(itemlist[-2]))\n",
        "print(itemlist[-2][0])\n",
        "print(itemlist[-2][1])\n",
        "print(itemlist[-2][2])\n",
        "print(itemlist[-2][-3])\n",
        "print(itemlist[-2][-2])\n",
        "print(itemlist[-2][-1])"
      ],
      "metadata": {
        "colab": {
          "base_uri": "https://localhost:8080/"
        },
        "id": "Hg1Rn5Q_PUMs",
        "outputId": "00e6358b-527e-4fbb-81a2-e913360f1683"
      },
      "execution_count": 2,
      "outputs": [
        {
          "output_type": "stream",
          "name": "stdout",
          "text": [
            "4\n",
            "1\n",
            "-2.0\n",
            "[1, 2, 3]\n",
            "Word\n",
            "\n",
            "3\n",
            "1\n",
            "2\n",
            "3\n",
            "Word\n",
            "[1, 2, 3]\n",
            "-2.0\n",
            "1\n",
            "\n",
            "3\n",
            "1\n",
            "2\n",
            "3\n",
            "1\n",
            "2\n",
            "3\n"
          ]
        }
      ]
    },
    {
      "cell_type": "markdown",
      "source": [
        "Observation: This Python program demonstrates list indexing, negative indexing, and accessing nested lists using itemlist, which contains different data types."
      ],
      "metadata": {
        "id": "0-uFiGonPp4E"
      }
    },
    {
      "cell_type": "markdown",
      "source": [
        "Index Slicing"
      ],
      "metadata": {
        "id": "QK_VDO6NP0x8"
      }
    },
    {
      "cell_type": "code",
      "source": [
        "longlist = numberlist + itemlist\n",
        "\n",
        "print(len(longlist))\n",
        "print(longlist [:])\n",
        "print(longlist[:9])\n",
        "print(longlist[0:])\n",
        "print(longlist[1:])\n",
        "print(longlist[2:])\n",
        "\n",
        "print(\"\")\n",
        "print(longlist[2:5])\n",
        "print(longlist[5:2])\n",
        "print(longlist[8:])\n",
        "print(longlist[9:])\n",
        "\n",
        "print(\"\")\n",
        "print(longlist[-9:])\n",
        "print(longlist[-8])\n",
        "print(longlist[-8:-7])\n",
        "print(longlist[-1])\n",
        "\n",
        "print(\"\")\n",
        "print(longlist[10:20])\n",
        "print(longlist[-7:5])\n",
        "\n",
        "print(\"\")\n",
        "print(longlist[::1])\n",
        "print(longlist[::2])\n",
        "print(longlist[1:8:2])\n",
        "print(longlist[9:1:-1])\n",
        "print(longlist[-1::1])\n",
        "print(longlist[-1::-1])"
      ],
      "metadata": {
        "colab": {
          "base_uri": "https://localhost:8080/"
        },
        "id": "vRwCp7CwP2XM",
        "outputId": "db42a13a-7792-4d69-d1a8-6dc7ec84dd16"
      },
      "execution_count": 3,
      "outputs": [
        {
          "output_type": "stream",
          "name": "stdout",
          "text": [
            "9\n",
            "[5, 4, 2, 1, 3, 1, -2.0, [1, 2, 3], 'Word']\n",
            "[5, 4, 2, 1, 3, 1, -2.0, [1, 2, 3], 'Word']\n",
            "[5, 4, 2, 1, 3, 1, -2.0, [1, 2, 3], 'Word']\n",
            "[4, 2, 1, 3, 1, -2.0, [1, 2, 3], 'Word']\n",
            "[2, 1, 3, 1, -2.0, [1, 2, 3], 'Word']\n",
            "\n",
            "[2, 1, 3]\n",
            "[]\n",
            "['Word']\n",
            "[]\n",
            "\n",
            "[5, 4, 2, 1, 3, 1, -2.0, [1, 2, 3], 'Word']\n",
            "4\n",
            "[4]\n",
            "Word\n",
            "\n",
            "[]\n",
            "[2, 1, 3]\n",
            "\n",
            "[5, 4, 2, 1, 3, 1, -2.0, [1, 2, 3], 'Word']\n",
            "[5, 2, 3, -2.0, 'Word']\n",
            "[4, 1, 1, [1, 2, 3]]\n",
            "['Word', [1, 2, 3], -2.0, 1, 3, 1, 2]\n",
            "['Word']\n",
            "['Word', [1, 2, 3], -2.0, 1, 3, 1, 2, 4, 5]\n"
          ]
        }
      ]
    },
    {
      "cell_type": "markdown",
      "source": [
        "Observation: My observation about index slicing is that it limits the value of the index by assigning the start, end, and range."
      ],
      "metadata": {
        "id": "cBgfVExHQGQu"
      }
    },
    {
      "cell_type": "markdown",
      "source": [
        "List Methods and the Mutable Property of Lists"
      ],
      "metadata": {
        "id": "NgJtxdZUQMBb"
      }
    },
    {
      "cell_type": "code",
      "source": [
        "numberlist2 = numberlist\n",
        "print(numberlist)\n",
        "print(numberlist2)\n",
        "numberlist[0] = 6\n",
        "print(numberlist)\n",
        "print(numberlist2)\n"
      ],
      "metadata": {
        "colab": {
          "base_uri": "https://localhost:8080/"
        },
        "id": "KK1qRGkAQI6M",
        "outputId": "92f33a4e-f443-4d58-e635-de8add92a946"
      },
      "execution_count": 4,
      "outputs": [
        {
          "output_type": "stream",
          "name": "stdout",
          "text": [
            "[5, 4, 2, 1, 3]\n",
            "[5, 4, 2, 1, 3]\n",
            "[6, 4, 2, 1, 3]\n",
            "[6, 4, 2, 1, 3]\n"
          ]
        }
      ]
    },
    {
      "cell_type": "markdown",
      "source": [
        "Add Blockquote"
      ],
      "metadata": {
        "id": "N77tOfiJQXK2"
      }
    },
    {
      "cell_type": "code",
      "source": [
        "numberlist2 = numberlist.copy # Number 8\n",
        "print(numberlist2) # Number 9\n",
        "numberlist[0] = 5 # Number 10\n",
        "print(numberlist) # Number 11\n",
        "print(numberlist2) # Number 12\n"
      ],
      "metadata": {
        "colab": {
          "base_uri": "https://localhost:8080/"
        },
        "id": "92zzJY2EQcGu",
        "outputId": "379550b7-dbff-4a40-8334-41e07ac23e35"
      },
      "execution_count": 5,
      "outputs": [
        {
          "output_type": "stream",
          "name": "stdout",
          "text": [
            "<built-in method copy of list object at 0x7f1ae729d680>\n",
            "[5, 4, 2, 1, 3]\n",
            "<built-in method copy of list object at 0x7f1ae729d680>\n"
          ]
        }
      ]
    },
    {
      "cell_type": "markdown",
      "source": [
        "Add Blockqoute"
      ],
      "metadata": {
        "id": "_ufBLxZIQfJt"
      }
    },
    {
      "cell_type": "markdown",
      "source": [
        "Exploring some List Functions and Methods"
      ],
      "metadata": {
        "id": "r9LgU5HyQjZs"
      }
    },
    {
      "cell_type": "code",
      "source": [
        "print(numberlist)\n",
        "numberlist.append(6)\n",
        "print(numberlist)\n",
        "numberlist.pop()\n",
        "print(numberlist)\n",
        "numberlist.sort()\n",
        "print(numberlist)\n",
        "print(min(numberlist) and max(numberlist))\n",
        "print(longlist)\n",
        "print(longlist.count(1))\n",
        "print(longlist[7].count(1))"
      ],
      "metadata": {
        "colab": {
          "base_uri": "https://localhost:8080/"
        },
        "id": "tTK2job4Qjzc",
        "outputId": "2857bcc0-e3aa-43e7-83d5-5f26e06c56b9"
      },
      "execution_count": 6,
      "outputs": [
        {
          "output_type": "stream",
          "name": "stdout",
          "text": [
            "[5, 4, 2, 1, 3]\n",
            "[5, 4, 2, 1, 3, 6]\n",
            "[5, 4, 2, 1, 3]\n",
            "[1, 2, 3, 4, 5]\n",
            "5\n",
            "[5, 4, 2, 1, 3, 1, -2.0, [1, 2, 3], 'Word']\n",
            "2\n",
            "1\n"
          ]
        }
      ]
    },
    {
      "cell_type": "markdown",
      "source": [
        "The in operator"
      ],
      "metadata": {
        "id": "Q7McHVSQQoZ0"
      }
    },
    {
      "cell_type": "code",
      "source": [
        "print(3 in longlist)\n",
        "print(15 in longlist)\n",
        "\n",
        "num = int(input(\"\\nEnter a number: \"))\n",
        "if num in longlist:\n",
        "  print(f\"The number is in longlist\")\n",
        "else:\n",
        "  print(f\"The number is not in longlist\")\n"
      ],
      "metadata": {
        "colab": {
          "base_uri": "https://localhost:8080/"
        },
        "id": "dQxfWDWOQo68",
        "outputId": "35ee833e-4f4d-4486-b95e-336605a65ba5"
      },
      "execution_count": 7,
      "outputs": [
        {
          "output_type": "stream",
          "name": "stdout",
          "text": [
            "True\n",
            "False\n",
            "\n",
            "Enter a number: 7\n",
            "The number is not in longlist\n"
          ]
        }
      ]
    },
    {
      "cell_type": "markdown",
      "source": [
        "Observation: My observation is that if the value is not in the data inside the bracket it will print as False. But, if the value is inside the data it will print as True."
      ],
      "metadata": {
        "id": "VVqI9F5WQygM"
      }
    },
    {
      "cell_type": "markdown",
      "source": [
        "Using a list in an iterative statement"
      ],
      "metadata": {
        "id": "4UZ8B2ODREf8"
      }
    },
    {
      "cell_type": "code",
      "source": [
        "\n",
        "for item in longlist:\n",
        "  print(item)\n",
        "\n",
        "i = 0\n",
        "while i < len(longlist):\n",
        "  print(longlist)\n",
        "  i += 1"
      ],
      "metadata": {
        "colab": {
          "base_uri": "https://localhost:8080/"
        },
        "id": "tE9Jzo7SRI7E",
        "outputId": "1942edb8-0e4e-4951-e9ce-19a9d9901992"
      },
      "execution_count": 8,
      "outputs": [
        {
          "output_type": "stream",
          "name": "stdout",
          "text": [
            "5\n",
            "4\n",
            "2\n",
            "1\n",
            "3\n",
            "1\n",
            "-2.0\n",
            "[1, 2, 3]\n",
            "Word\n",
            "[5, 4, 2, 1, 3, 1, -2.0, [1, 2, 3], 'Word']\n",
            "[5, 4, 2, 1, 3, 1, -2.0, [1, 2, 3], 'Word']\n",
            "[5, 4, 2, 1, 3, 1, -2.0, [1, 2, 3], 'Word']\n",
            "[5, 4, 2, 1, 3, 1, -2.0, [1, 2, 3], 'Word']\n",
            "[5, 4, 2, 1, 3, 1, -2.0, [1, 2, 3], 'Word']\n",
            "[5, 4, 2, 1, 3, 1, -2.0, [1, 2, 3], 'Word']\n",
            "[5, 4, 2, 1, 3, 1, -2.0, [1, 2, 3], 'Word']\n",
            "[5, 4, 2, 1, 3, 1, -2.0, [1, 2, 3], 'Word']\n",
            "[5, 4, 2, 1, 3, 1, -2.0, [1, 2, 3], 'Word']\n"
          ]
        }
      ]
    },
    {
      "cell_type": "markdown",
      "source": [
        "Strings"
      ],
      "metadata": {
        "id": "gIwKeh1WRM5s"
      }
    },
    {
      "cell_type": "code",
      "source": [
        "message = \"HELLO WORLD\"\n",
        "print(message)\n",
        "print(len(message))\n",
        "\n",
        "print(message[0], message[1], message[2], message[3], message[4])\n",
        "print(message[-11], message[-10], message[-9], message[-8], message[-7])\n",
        "\n",
        "print(message[0], message[4], message[9], message[10])\n",
        "\n",
        "print(message [0:5])\n",
        "print(message [6:11])"
      ],
      "metadata": {
        "colab": {
          "base_uri": "https://localhost:8080/"
        },
        "id": "HqJTewQrRNzt",
        "outputId": "84903714-a92c-47e2-9529-bd3ead341e17"
      },
      "execution_count": 9,
      "outputs": [
        {
          "output_type": "stream",
          "name": "stdout",
          "text": [
            "HELLO WORLD\n",
            "11\n",
            "H E L L O\n",
            "H E L L O\n",
            "H O L D\n",
            "HELLO\n",
            "WORLD\n"
          ]
        }
      ]
    },
    {
      "cell_type": "markdown",
      "source": [
        "String Methods"
      ],
      "metadata": {
        "id": "_PyGIYIcRQc0"
      }
    },
    {
      "cell_type": "code",
      "source": [
        "print(message.upper())\n",
        "print(message.lower())\n",
        "print(message.title())\n",
        "print(\"Value 1 is {}, and value 2 is {}\".format(-1, True))\n",
        "print(message.split())\n",
        "print(message.count('I'))\n",
        "print(message.replace(\"World\", \"CPE009\"))\n",
        "message.replace(\"World\", \"CPE009\") == message\n",
        "help(\"\")"
      ],
      "metadata": {
        "colab": {
          "base_uri": "https://localhost:8080/"
        },
        "id": "Z6U8Xp-ORRgd",
        "outputId": "5ae27223-3c40-4be5-c540-b3b00cfc63f8"
      },
      "execution_count": 10,
      "outputs": [
        {
          "output_type": "stream",
          "name": "stdout",
          "text": [
            "HELLO WORLD\n",
            "hello world\n",
            "Hello World\n",
            "Value 1 is -1, and value 2 is True\n",
            "['HELLO', 'WORLD']\n",
            "0\n",
            "HELLO WORLD\n",
            "Help on class str in module builtins:\n",
            "\n",
            "class str(object)\n",
            " |  str(object='') -> str\n",
            " |  str(bytes_or_buffer[, encoding[, errors]]) -> str\n",
            " |  \n",
            " |  Create a new string object from the given object. If encoding or\n",
            " |  errors is specified, then the object must expose a data buffer\n",
            " |  that will be decoded using the given encoding and error handler.\n",
            " |  Otherwise, returns the result of object.__str__() (if defined)\n",
            " |  or repr(object).\n",
            " |  encoding defaults to sys.getdefaultencoding().\n",
            " |  errors defaults to 'strict'.\n",
            " |  \n",
            " |  Methods defined here:\n",
            " |  \n",
            " |  __add__(self, value, /)\n",
            " |      Return self+value.\n",
            " |  \n",
            " |  __contains__(self, key, /)\n",
            " |      Return key in self.\n",
            " |  \n",
            " |  __eq__(self, value, /)\n",
            " |      Return self==value.\n",
            " |  \n",
            " |  __format__(self, format_spec, /)\n",
            " |      Return a formatted version of the string as described by format_spec.\n",
            " |  \n",
            " |  __ge__(self, value, /)\n",
            " |      Return self>=value.\n",
            " |  \n",
            " |  __getattribute__(self, name, /)\n",
            " |      Return getattr(self, name).\n",
            " |  \n",
            " |  __getitem__(self, key, /)\n",
            " |      Return self[key].\n",
            " |  \n",
            " |  __getnewargs__(...)\n",
            " |  \n",
            " |  __gt__(self, value, /)\n",
            " |      Return self>value.\n",
            " |  \n",
            " |  __hash__(self, /)\n",
            " |      Return hash(self).\n",
            " |  \n",
            " |  __iter__(self, /)\n",
            " |      Implement iter(self).\n",
            " |  \n",
            " |  __le__(self, value, /)\n",
            " |      Return self<=value.\n",
            " |  \n",
            " |  __len__(self, /)\n",
            " |      Return len(self).\n",
            " |  \n",
            " |  __lt__(self, value, /)\n",
            " |      Return self<value.\n",
            " |  \n",
            " |  __mod__(self, value, /)\n",
            " |      Return self%value.\n",
            " |  \n",
            " |  __mul__(self, value, /)\n",
            " |      Return self*value.\n",
            " |  \n",
            " |  __ne__(self, value, /)\n",
            " |      Return self!=value.\n",
            " |  \n",
            " |  __repr__(self, /)\n",
            " |      Return repr(self).\n",
            " |  \n",
            " |  __rmod__(self, value, /)\n",
            " |      Return value%self.\n",
            " |  \n",
            " |  __rmul__(self, value, /)\n",
            " |      Return value*self.\n",
            " |  \n",
            " |  __sizeof__(self, /)\n",
            " |      Return the size of the string in memory, in bytes.\n",
            " |  \n",
            " |  __str__(self, /)\n",
            " |      Return str(self).\n",
            " |  \n",
            " |  capitalize(self, /)\n",
            " |      Return a capitalized version of the string.\n",
            " |      \n",
            " |      More specifically, make the first character have upper case and the rest lower\n",
            " |      case.\n",
            " |  \n",
            " |  casefold(self, /)\n",
            " |      Return a version of the string suitable for caseless comparisons.\n",
            " |  \n",
            " |  center(self, width, fillchar=' ', /)\n",
            " |      Return a centered string of length width.\n",
            " |      \n",
            " |      Padding is done using the specified fill character (default is a space).\n",
            " |  \n",
            " |  count(...)\n",
            " |      S.count(sub[, start[, end]]) -> int\n",
            " |      \n",
            " |      Return the number of non-overlapping occurrences of substring sub in\n",
            " |      string S[start:end].  Optional arguments start and end are\n",
            " |      interpreted as in slice notation.\n",
            " |  \n",
            " |  encode(self, /, encoding='utf-8', errors='strict')\n",
            " |      Encode the string using the codec registered for encoding.\n",
            " |      \n",
            " |      encoding\n",
            " |        The encoding in which to encode the string.\n",
            " |      errors\n",
            " |        The error handling scheme to use for encoding errors.\n",
            " |        The default is 'strict' meaning that encoding errors raise a\n",
            " |        UnicodeEncodeError.  Other possible values are 'ignore', 'replace' and\n",
            " |        'xmlcharrefreplace' as well as any other name registered with\n",
            " |        codecs.register_error that can handle UnicodeEncodeErrors.\n",
            " |  \n",
            " |  endswith(...)\n",
            " |      S.endswith(suffix[, start[, end]]) -> bool\n",
            " |      \n",
            " |      Return True if S ends with the specified suffix, False otherwise.\n",
            " |      With optional start, test S beginning at that position.\n",
            " |      With optional end, stop comparing S at that position.\n",
            " |      suffix can also be a tuple of strings to try.\n",
            " |  \n",
            " |  expandtabs(self, /, tabsize=8)\n",
            " |      Return a copy where all tab characters are expanded using spaces.\n",
            " |      \n",
            " |      If tabsize is not given, a tab size of 8 characters is assumed.\n",
            " |  \n",
            " |  find(...)\n",
            " |      S.find(sub[, start[, end]]) -> int\n",
            " |      \n",
            " |      Return the lowest index in S where substring sub is found,\n",
            " |      such that sub is contained within S[start:end].  Optional\n",
            " |      arguments start and end are interpreted as in slice notation.\n",
            " |      \n",
            " |      Return -1 on failure.\n",
            " |  \n",
            " |  format(...)\n",
            " |      S.format(*args, **kwargs) -> str\n",
            " |      \n",
            " |      Return a formatted version of S, using substitutions from args and kwargs.\n",
            " |      The substitutions are identified by braces ('{' and '}').\n",
            " |  \n",
            " |  format_map(...)\n",
            " |      S.format_map(mapping) -> str\n",
            " |      \n",
            " |      Return a formatted version of S, using substitutions from mapping.\n",
            " |      The substitutions are identified by braces ('{' and '}').\n",
            " |  \n",
            " |  index(...)\n",
            " |      S.index(sub[, start[, end]]) -> int\n",
            " |      \n",
            " |      Return the lowest index in S where substring sub is found,\n",
            " |      such that sub is contained within S[start:end].  Optional\n",
            " |      arguments start and end are interpreted as in slice notation.\n",
            " |      \n",
            " |      Raises ValueError when the substring is not found.\n",
            " |  \n",
            " |  isalnum(self, /)\n",
            " |      Return True if the string is an alpha-numeric string, False otherwise.\n",
            " |      \n",
            " |      A string is alpha-numeric if all characters in the string are alpha-numeric and\n",
            " |      there is at least one character in the string.\n",
            " |  \n",
            " |  isalpha(self, /)\n",
            " |      Return True if the string is an alphabetic string, False otherwise.\n",
            " |      \n",
            " |      A string is alphabetic if all characters in the string are alphabetic and there\n",
            " |      is at least one character in the string.\n",
            " |  \n",
            " |  isascii(self, /)\n",
            " |      Return True if all characters in the string are ASCII, False otherwise.\n",
            " |      \n",
            " |      ASCII characters have code points in the range U+0000-U+007F.\n",
            " |      Empty string is ASCII too.\n",
            " |  \n",
            " |  isdecimal(self, /)\n",
            " |      Return True if the string is a decimal string, False otherwise.\n",
            " |      \n",
            " |      A string is a decimal string if all characters in the string are decimal and\n",
            " |      there is at least one character in the string.\n",
            " |  \n",
            " |  isdigit(self, /)\n",
            " |      Return True if the string is a digit string, False otherwise.\n",
            " |      \n",
            " |      A string is a digit string if all characters in the string are digits and there\n",
            " |      is at least one character in the string.\n",
            " |  \n",
            " |  isidentifier(self, /)\n",
            " |      Return True if the string is a valid Python identifier, False otherwise.\n",
            " |      \n",
            " |      Call keyword.iskeyword(s) to test whether string s is a reserved identifier,\n",
            " |      such as \"def\" or \"class\".\n",
            " |  \n",
            " |  islower(self, /)\n",
            " |      Return True if the string is a lowercase string, False otherwise.\n",
            " |      \n",
            " |      A string is lowercase if all cased characters in the string are lowercase and\n",
            " |      there is at least one cased character in the string.\n",
            " |  \n",
            " |  isnumeric(self, /)\n",
            " |      Return True if the string is a numeric string, False otherwise.\n",
            " |      \n",
            " |      A string is numeric if all characters in the string are numeric and there is at\n",
            " |      least one character in the string.\n",
            " |  \n",
            " |  isprintable(self, /)\n",
            " |      Return True if the string is printable, False otherwise.\n",
            " |      \n",
            " |      A string is printable if all of its characters are considered printable in\n",
            " |      repr() or if it is empty.\n",
            " |  \n",
            " |  isspace(self, /)\n",
            " |      Return True if the string is a whitespace string, False otherwise.\n",
            " |      \n",
            " |      A string is whitespace if all characters in the string are whitespace and there\n",
            " |      is at least one character in the string.\n",
            " |  \n",
            " |  istitle(self, /)\n",
            " |      Return True if the string is a title-cased string, False otherwise.\n",
            " |      \n",
            " |      In a title-cased string, upper- and title-case characters may only\n",
            " |      follow uncased characters and lowercase characters only cased ones.\n",
            " |  \n",
            " |  isupper(self, /)\n",
            " |      Return True if the string is an uppercase string, False otherwise.\n",
            " |      \n",
            " |      A string is uppercase if all cased characters in the string are uppercase and\n",
            " |      there is at least one cased character in the string.\n",
            " |  \n",
            " |  join(self, iterable, /)\n",
            " |      Concatenate any number of strings.\n",
            " |      \n",
            " |      The string whose method is called is inserted in between each given string.\n",
            " |      The result is returned as a new string.\n",
            " |      \n",
            " |      Example: '.'.join(['ab', 'pq', 'rs']) -> 'ab.pq.rs'\n",
            " |  \n",
            " |  ljust(self, width, fillchar=' ', /)\n",
            " |      Return a left-justified string of length width.\n",
            " |      \n",
            " |      Padding is done using the specified fill character (default is a space).\n",
            " |  \n",
            " |  lower(self, /)\n",
            " |      Return a copy of the string converted to lowercase.\n",
            " |  \n",
            " |  lstrip(self, chars=None, /)\n",
            " |      Return a copy of the string with leading whitespace removed.\n",
            " |      \n",
            " |      If chars is given and not None, remove characters in chars instead.\n",
            " |  \n",
            " |  partition(self, sep, /)\n",
            " |      Partition the string into three parts using the given separator.\n",
            " |      \n",
            " |      This will search for the separator in the string.  If the separator is found,\n",
            " |      returns a 3-tuple containing the part before the separator, the separator\n",
            " |      itself, and the part after it.\n",
            " |      \n",
            " |      If the separator is not found, returns a 3-tuple containing the original string\n",
            " |      and two empty strings.\n",
            " |  \n",
            " |  removeprefix(self, prefix, /)\n",
            " |      Return a str with the given prefix string removed if present.\n",
            " |      \n",
            " |      If the string starts with the prefix string, return string[len(prefix):].\n",
            " |      Otherwise, return a copy of the original string.\n",
            " |  \n",
            " |  removesuffix(self, suffix, /)\n",
            " |      Return a str with the given suffix string removed if present.\n",
            " |      \n",
            " |      If the string ends with the suffix string and that suffix is not empty,\n",
            " |      return string[:-len(suffix)]. Otherwise, return a copy of the original\n",
            " |      string.\n",
            " |  \n",
            " |  replace(self, old, new, count=-1, /)\n",
            " |      Return a copy with all occurrences of substring old replaced by new.\n",
            " |      \n",
            " |        count\n",
            " |          Maximum number of occurrences to replace.\n",
            " |          -1 (the default value) means replace all occurrences.\n",
            " |      \n",
            " |      If the optional argument count is given, only the first count occurrences are\n",
            " |      replaced.\n",
            " |  \n",
            " |  rfind(...)\n",
            " |      S.rfind(sub[, start[, end]]) -> int\n",
            " |      \n",
            " |      Return the highest index in S where substring sub is found,\n",
            " |      such that sub is contained within S[start:end].  Optional\n",
            " |      arguments start and end are interpreted as in slice notation.\n",
            " |      \n",
            " |      Return -1 on failure.\n",
            " |  \n",
            " |  rindex(...)\n",
            " |      S.rindex(sub[, start[, end]]) -> int\n",
            " |      \n",
            " |      Return the highest index in S where substring sub is found,\n",
            " |      such that sub is contained within S[start:end].  Optional\n",
            " |      arguments start and end are interpreted as in slice notation.\n",
            " |      \n",
            " |      Raises ValueError when the substring is not found.\n",
            " |  \n",
            " |  rjust(self, width, fillchar=' ', /)\n",
            " |      Return a right-justified string of length width.\n",
            " |      \n",
            " |      Padding is done using the specified fill character (default is a space).\n",
            " |  \n",
            " |  rpartition(self, sep, /)\n",
            " |      Partition the string into three parts using the given separator.\n",
            " |      \n",
            " |      This will search for the separator in the string, starting at the end. If\n",
            " |      the separator is found, returns a 3-tuple containing the part before the\n",
            " |      separator, the separator itself, and the part after it.\n",
            " |      \n",
            " |      If the separator is not found, returns a 3-tuple containing two empty strings\n",
            " |      and the original string.\n",
            " |  \n",
            " |  rsplit(self, /, sep=None, maxsplit=-1)\n",
            " |      Return a list of the substrings in the string, using sep as the separator string.\n",
            " |      \n",
            " |        sep\n",
            " |          The separator used to split the string.\n",
            " |      \n",
            " |          When set to None (the default value), will split on any whitespace\n",
            " |          character (including \\n \\r \\t \\f and spaces) and will discard\n",
            " |          empty strings from the result.\n",
            " |        maxsplit\n",
            " |          Maximum number of splits.\n",
            " |          -1 (the default value) means no limit.\n",
            " |      \n",
            " |      Splitting starts at the end of the string and works to the front.\n",
            " |  \n",
            " |  rstrip(self, chars=None, /)\n",
            " |      Return a copy of the string with trailing whitespace removed.\n",
            " |      \n",
            " |      If chars is given and not None, remove characters in chars instead.\n",
            " |  \n",
            " |  split(self, /, sep=None, maxsplit=-1)\n",
            " |      Return a list of the substrings in the string, using sep as the separator string.\n",
            " |      \n",
            " |        sep\n",
            " |          The separator used to split the string.\n",
            " |      \n",
            " |          When set to None (the default value), will split on any whitespace\n",
            " |          character (including \\n \\r \\t \\f and spaces) and will discard\n",
            " |          empty strings from the result.\n",
            " |        maxsplit\n",
            " |          Maximum number of splits.\n",
            " |          -1 (the default value) means no limit.\n",
            " |      \n",
            " |      Splitting starts at the front of the string and works to the end.\n",
            " |      \n",
            " |      Note, str.split() is mainly useful for data that has been intentionally\n",
            " |      delimited.  With natural text that includes punctuation, consider using\n",
            " |      the regular expression module.\n",
            " |  \n",
            " |  splitlines(self, /, keepends=False)\n",
            " |      Return a list of the lines in the string, breaking at line boundaries.\n",
            " |      \n",
            " |      Line breaks are not included in the resulting list unless keepends is given and\n",
            " |      true.\n",
            " |  \n",
            " |  startswith(...)\n",
            " |      S.startswith(prefix[, start[, end]]) -> bool\n",
            " |      \n",
            " |      Return True if S starts with the specified prefix, False otherwise.\n",
            " |      With optional start, test S beginning at that position.\n",
            " |      With optional end, stop comparing S at that position.\n",
            " |      prefix can also be a tuple of strings to try.\n",
            " |  \n",
            " |  strip(self, chars=None, /)\n",
            " |      Return a copy of the string with leading and trailing whitespace removed.\n",
            " |      \n",
            " |      If chars is given and not None, remove characters in chars instead.\n",
            " |  \n",
            " |  swapcase(self, /)\n",
            " |      Convert uppercase characters to lowercase and lowercase characters to uppercase.\n",
            " |  \n",
            " |  title(self, /)\n",
            " |      Return a version of the string where each word is titlecased.\n",
            " |      \n",
            " |      More specifically, words start with uppercased characters and all remaining\n",
            " |      cased characters have lower case.\n",
            " |  \n",
            " |  translate(self, table, /)\n",
            " |      Replace each character in the string using the given translation table.\n",
            " |      \n",
            " |        table\n",
            " |          Translation table, which must be a mapping of Unicode ordinals to\n",
            " |          Unicode ordinals, strings, or None.\n",
            " |      \n",
            " |      The table must implement lookup/indexing via __getitem__, for instance a\n",
            " |      dictionary or list.  If this operation raises LookupError, the character is\n",
            " |      left untouched.  Characters mapped to None are deleted.\n",
            " |  \n",
            " |  upper(self, /)\n",
            " |      Return a copy of the string converted to uppercase.\n",
            " |  \n",
            " |  zfill(self, width, /)\n",
            " |      Pad a numeric string with zeros on the left, to fill a field of the given width.\n",
            " |      \n",
            " |      The string is never truncated.\n",
            " |  \n",
            " |  ----------------------------------------------------------------------\n",
            " |  Static methods defined here:\n",
            " |  \n",
            " |  __new__(*args, **kwargs)\n",
            " |      Create and return a new object.  See help(type) for accurate signature.\n",
            " |  \n",
            " |  maketrans(...)\n",
            " |      Return a translation table usable for str.translate().\n",
            " |      \n",
            " |      If there is only one argument, it must be a dictionary mapping Unicode\n",
            " |      ordinals (integers) or characters to Unicode ordinals, strings or None.\n",
            " |      Character keys will be then converted to ordinals.\n",
            " |      If there are two arguments, they must be strings of equal length, and\n",
            " |      in the resulting dictionary, each character in x will be mapped to the\n",
            " |      character at the same position in y. If there is a third argument, it\n",
            " |      must be a string, whose characters will be mapped to None in the result.\n",
            "\n"
          ]
        }
      ]
    },
    {
      "cell_type": "markdown",
      "source": [
        "The in operator for Strings"
      ],
      "metadata": {
        "id": "CnLrIzhTRYkj"
      }
    },
    {
      "cell_type": "code",
      "source": [
        "print('W' in message)\n",
        "print('old' in message)\n",
        "\n",
        "word = input('\\nEnter a word: ')\n",
        "if word in 'The big brown fox jump over the lazy dog':\n",
        "  print(f'The word is in the text')\n",
        "else:\n",
        "  print(f'The word is not in the text')\n",
        ""
      ],
      "metadata": {
        "colab": {
          "base_uri": "https://localhost:8080/"
        },
        "id": "0fTjkCJGRZKs",
        "outputId": "62fdada1-7626-46d9-9d9b-96f70635d2de"
      },
      "execution_count": 11,
      "outputs": [
        {
          "output_type": "stream",
          "name": "stdout",
          "text": [
            "True\n",
            "False\n",
            "\n",
            "Enter a word: World\n",
            "The word is not in the text\n"
          ]
        }
      ]
    },
    {
      "cell_type": "markdown",
      "source": [
        "Using a String in an iterative statement"
      ],
      "metadata": {
        "id": "VcICteqBRemU"
      }
    },
    {
      "cell_type": "code",
      "source": [
        "for character in message:\n",
        "  print(character)\n",
        "\n",
        "i = 0\n",
        "while i < len(message):\n",
        "  print(message[i])\n",
        "  i += 1"
      ],
      "metadata": {
        "colab": {
          "base_uri": "https://localhost:8080/"
        },
        "id": "BVrkMP1PRgOF",
        "outputId": "4d1562f8-cc91-4f68-fb73-061bd8625afa"
      },
      "execution_count": 12,
      "outputs": [
        {
          "output_type": "stream",
          "name": "stdout",
          "text": [
            "H\n",
            "E\n",
            "L\n",
            "L\n",
            "O\n",
            " \n",
            "W\n",
            "O\n",
            "R\n",
            "L\n",
            "D\n",
            "H\n",
            "E\n",
            "L\n",
            "L\n",
            "O\n",
            " \n",
            "W\n",
            "O\n",
            "R\n",
            "L\n",
            "D\n"
          ]
        }
      ]
    },
    {
      "cell_type": "markdown",
      "source": [
        "Tuples"
      ],
      "metadata": {
        "id": "Kun_eAutRmbt"
      }
    },
    {
      "cell_type": "code",
      "source": [
        "tuplelist = (1, 2, 3, 4, 5)\n",
        "\n",
        "print(numberlist[0])\n",
        "print(numberlist[1])\n",
        "print(numberlist[2])\n",
        "print(numberlist[3])\n",
        "print(numberlist[4])\n",
        "\n",
        "print(tuplelist + (1,2,3))\n",
        "new_tuplelist = (15,) + tuplelist[1:]\n",
        "print(new_tuplelist)\n",
        "\n",
        "for numberlist in range(0, 4):\n",
        "  print(tuplelist)\n",
        ""
      ],
      "metadata": {
        "colab": {
          "base_uri": "https://localhost:8080/"
        },
        "id": "vTffk8KCRosM",
        "outputId": "b94fc5e1-0ea8-4131-e0bb-a7246ef51afc"
      },
      "execution_count": 13,
      "outputs": [
        {
          "output_type": "stream",
          "name": "stdout",
          "text": [
            "1\n",
            "2\n",
            "3\n",
            "4\n",
            "5\n",
            "(1, 2, 3, 4, 5, 1, 2, 3)\n",
            "(15, 2, 3, 4, 5)\n",
            "(1, 2, 3, 4, 5)\n",
            "(1, 2, 3, 4, 5)\n",
            "(1, 2, 3, 4, 5)\n",
            "(1, 2, 3, 4, 5)\n"
          ]
        }
      ]
    },
    {
      "cell_type": "markdown",
      "source": [
        "Observation: This means it will print tuplelist four times, but numberlist is not being used correctly in the loop."
      ],
      "metadata": {
        "id": "3yG_rgcVRrOd"
      }
    },
    {
      "cell_type": "markdown",
      "source": [
        "Dictionaries"
      ],
      "metadata": {
        "id": "v_aIHNlKR8Tk"
      }
    },
    {
      "cell_type": "code",
      "source": [
        "contactinfo = {'id': 1, \"first_name\": \"John\", \"last_name\": \"Doe\", \"contact_number\":\"09060611233\", \"age\": \"16\"}\n",
        "print(contactinfo[\"id\"])\n",
        "print(contactinfo[\"first_name\"])\n",
        "print(contactinfo[\"last_name\"])\n",
        "print(contactinfo[\"contact_number\"])\n",
        "print(contactinfo[\"age\"])\n",
        "\n",
        "print(\" \")\n",
        "for k in contactinfo:\n",
        "  print(k)\n",
        "\n",
        "print(\" \")\n",
        "for v in contactinfo:\n",
        "  print(v)"
      ],
      "metadata": {
        "colab": {
          "base_uri": "https://localhost:8080/"
        },
        "id": "v8lDhMsuR-C9",
        "outputId": "e38c45ed-5c5c-4029-8f5d-6c64e66ed26d"
      },
      "execution_count": 14,
      "outputs": [
        {
          "output_type": "stream",
          "name": "stdout",
          "text": [
            "1\n",
            "John\n",
            "Doe\n",
            "09060611233\n",
            "16\n",
            " \n",
            "id\n",
            "first_name\n",
            "last_name\n",
            "contact_number\n",
            "age\n",
            " \n",
            "id\n",
            "first_name\n",
            "last_name\n",
            "contact_number\n",
            "age\n"
          ]
        }
      ]
    },
    {
      "cell_type": "markdown",
      "source": [
        "Supplementary Activity"
      ],
      "metadata": {
        "id": "ZLrtf2NqSAUc"
      }
    },
    {
      "cell_type": "code",
      "source": [
        "x1 = int(input(\"Enter the value of x1: \"))\n",
        "y1 = int(input(\"Enter the value of y1: \"))\n",
        "x2 = int(input(\"Enter the value of x2: \"))\n",
        "y2 = int(input(\"Enter the value of y2: \"))\n",
        "\n",
        "import math\n",
        "d = math.sqrt((x2 - x1)**2 + (y2 - y1)**2)\n",
        "print(\" \")\n",
        "print(f\"The distance of this coordinate is: {d:.4f}\")"
      ],
      "metadata": {
        "colab": {
          "base_uri": "https://localhost:8080/"
        },
        "id": "eS8HsceESCH0",
        "outputId": "17090652-2615-42e4-d295-6e990448020c"
      },
      "execution_count": 15,
      "outputs": [
        {
          "output_type": "stream",
          "name": "stdout",
          "text": [
            "Enter the value of x1: 7\n",
            "Enter the value of y1: 9\n",
            "Enter the value of x2: 7\n",
            "Enter the value of y2: 6\n",
            " \n",
            "The distance of this coordinate is: 3.0000\n"
          ]
        }
      ]
    },
    {
      "cell_type": "code",
      "source": [
        "x = str(input(\"Enter a word: \"))\n",
        "\n",
        "if x == \"stupid\":\n",
        "  print(f\"\\nThe word you input is ******\")\n",
        "elif x == \"STUPID\":\n",
        "  print(f\"\\nThe word you input is ******\")\n",
        "else:\n",
        "  print(f\"\\nThe word you input is {x}\")"
      ],
      "metadata": {
        "colab": {
          "base_uri": "https://localhost:8080/"
        },
        "id": "RARNO2ggSKFs",
        "outputId": "a0676a92-8bcd-44b5-bf0b-021200057f1a"
      },
      "execution_count": 16,
      "outputs": [
        {
          "output_type": "stream",
          "name": "stdout",
          "text": [
            "Enter a word: Hey\n",
            "\n",
            "The word you input is Hey\n"
          ]
        }
      ]
    },
    {
      "cell_type": "code",
      "source": [
        "phonebook = [{\"id\": 1, \"Name\": \"Jerkielle\", \"Number\": \"09123597125\", \"Address\": \"University of Caloocan City\" },\n",
        "             {\"id\": 2, \"Name\": \"Roen\", \"Number\": \"09224516701\", \"Address\": \"University of Caloocan City\" },\n",
        "             {\"id\": 3, \"Name\": \"Balana\", \"Number\": \"098769000921\", \"Address\": \"University of Caloocan City\" }]\n",
        "\n",
        "contact = int(input(\"Enter Contact ID: \"))\n",
        "for x in phonebook:\n",
        "  if x[\"id\"] == contact:\n",
        "    print(f\"Name: {x['Name']}\")\n",
        "    print(f\"Number: {x['Number']}\")\n",
        "    print(f\"Address: {x['Address']}\")\n",
        "    break\n",
        "  else:\n",
        "    pass"
      ],
      "metadata": {
        "colab": {
          "base_uri": "https://localhost:8080/"
        },
        "id": "XwQ1Bd0OSNod",
        "outputId": "a84ea508-72ef-44d1-d0ce-73a3ae7e7dbe"
      },
      "execution_count": 19,
      "outputs": [
        {
          "output_type": "stream",
          "name": "stdout",
          "text": [
            "Enter Contact ID: 1\n",
            "Name: Jerkielle\n",
            "Number: 09123597125\n",
            "Address: University of Caloocan City\n"
          ]
        }
      ]
    },
    {
      "cell_type": "markdown",
      "source": [
        "#1"
      ],
      "metadata": {
        "id": "yL__1NfkS-U0"
      }
    },
    {
      "cell_type": "markdown",
      "source": [
        "Lists, tuples, and strings support indexing to access specific elements. Loops allow displaying all elements sequentially. Slicing allows displaying a subset of elements using start:stop:step."
      ],
      "metadata": {
        "id": "vA7LARMQS14F"
      }
    },
    {
      "cell_type": "markdown",
      "source": [
        "#2"
      ],
      "metadata": {
        "id": "ILZj6HK3TA8D"
      }
    },
    {
      "cell_type": "markdown",
      "source": [
        "A list is a collection of items that can be modified (mutable). It maintains order and allows duplicate values. A tuple is similar to a list but cannot be changed (immutable). Tuples are more memory-efficient and useful when data should remain constant. A string is a sequence of characters and is immutable (cannot be changed after creation). A dictionary stores data in key-value pairs, allowing fast lookup and modification."
      ],
      "metadata": {
        "id": "yiFfX_3KTCRs"
      }
    },
    {
      "cell_type": "markdown",
      "source": [
        "#3"
      ],
      "metadata": {
        "id": "c-fpZ46XTkhF"
      }
    },
    {
      "cell_type": "markdown",
      "source": [
        "You may change the case, replace text, remove spaces, and split the string into a list using string methods like lower(), upper(), replace(), strip(), and split()."
      ],
      "metadata": {
        "id": "RcakmuPQTljE"
      }
    },
    {
      "cell_type": "markdown",
      "source": [
        "Conclusion"
      ],
      "metadata": {
        "id": "-D_9JLroTuRO"
      }
    },
    {
      "cell_type": "markdown",
      "source": [
        "Use lists when you need to store multiple items that can change, such as student names, shopping cart items, or a series of numbers. Moreover, mapping types like dictionaries offer a flexible way to store and access data through unique keys, whereas sequence types like lists, tuples, and strings enable ordered, indexed collections of data. Lists are changeable, while tuples and strings are unchangeable. To manage and organize data in Python scripts efficiently, one must be aware of various data types."
      ],
      "metadata": {
        "id": "tzYX1DPxTwCE"
      }
    }
  ]
}