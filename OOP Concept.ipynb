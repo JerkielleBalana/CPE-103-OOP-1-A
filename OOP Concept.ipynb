{
  "nbformat": 4,
  "nbformat_minor": 0,
  "metadata": {
    "colab": {
      "provenance": [],
      "authorship_tag": "ABX9TyNbhJkhRGxmFra/5puRTuED",
      "include_colab_link": true
    },
    "kernelspec": {
      "name": "python3",
      "display_name": "Python 3"
    },
    "language_info": {
      "name": "python"
    }
  },
  "cells": [
    {
      "cell_type": "markdown",
      "metadata": {
        "id": "view-in-github",
        "colab_type": "text"
      },
      "source": [
        "<a href=\"https://colab.research.google.com/github/JerkielleBalana/CPE-103-OOP-1-A/blob/main/OOP%20Concept.ipynb\" target=\"_parent\"><img src=\"https://colab.research.google.com/assets/colab-badge.svg\" alt=\"Open In Colab\"/></a>"
      ]
    },
    {
      "cell_type": "markdown",
      "source": [],
      "metadata": {
        "id": "NgMV80c18FfH"
      }
    },
    {
      "cell_type": "markdown",
      "source": [
        "Class Constructor"
      ],
      "metadata": {
        "id": "BMF0MoS98K9u"
      }
    },
    {
      "cell_type": "code",
      "source": [
        "class Car:\n",
        "  pass\n",
        "  def _init_(self,name,color):\n",
        "    self.name = name\n",
        "    self.color = color"
      ],
      "metadata": {
        "id": "e06_qsqq8NOt"
      },
      "execution_count": 6,
      "outputs": []
    },
    {
      "cell_type": "markdown",
      "source": [
        "Class Methods\n"
      ],
      "metadata": {
        "id": "kHLmOGlM9rc1"
      }
    },
    {
      "cell_type": "code",
      "source": [
        "class Car:\n",
        "  car_type= \"Sedan\"\n",
        "\n",
        "def _init_(self,name,mileage):\n",
        "  self.name=name\n",
        "  self.mileage=mileage\n",
        "  def description(self):\n",
        "    return \"The {self.name} car gives the mileage of {self.mileage}km/l\"\n",
        "    def max_speed(self,speed):\n",
        "      return \"The {self.name} runs at the maximum speed of {speed}km/hr\""
      ],
      "metadata": {
        "id": "yubMDd-w9tXk"
      },
      "execution_count": 53,
      "outputs": []
    },
    {
      "cell_type": "markdown",
      "source": [
        "Apply the OOP Concept like class constructor, method, inheritance to describe the side of 3 shapes (e.g. Triangle, Square, Rectangle"
      ],
      "metadata": {
        "id": "SppF8MVaFEC8"
      }
    },
    {
      "cell_type": "code",
      "source": [
        "class Shapes:\n",
        "  def __init__(self, name, sides):\n",
        "    pass\n",
        "    self.name = name\n",
        "    self.sides = sides\n",
        "\n",
        "  def description(self):\n",
        "    return f\"The {self.name} has {self.sides} sides\"\n",
        "\n",
        "class Circle(Shapes):\n",
        "      pass\n",
        "\n",
        "class Square(Shapes):\n",
        "      def square_desc(self):\n",
        "        pass\n",
        "\n",
        "class Triangle(Shapes):\n",
        "      def triangle_desc(self):\n",
        "       pass\n",
        "\n",
        "circle= Circle(\"Circle\", 0)\n",
        "print(circle.description())\n",
        "\n",
        "square = Square(\"Square\", 4)\n",
        "print(square.description())\n",
        "\n",
        "triangle = Triangle(\"Triangle\", 3)\n",
        "print(triangle.description())\n",
        "\n",
        "\n",
        "\n",
        "\n"
      ],
      "metadata": {
        "colab": {
          "base_uri": "https://localhost:8080/"
        },
        "id": "sG1jvDCBFUD_",
        "outputId": "00c5825b-0c68-48c5-c058-5ba592ca5f56"
      },
      "execution_count": 67,
      "outputs": [
        {
          "output_type": "stream",
          "name": "stdout",
          "text": [
            "The Circle has 0 sides\n",
            "The Square has 4 sides\n",
            "The Triangle has 3 sides\n"
          ]
        }
      ]
    }
  ]
}