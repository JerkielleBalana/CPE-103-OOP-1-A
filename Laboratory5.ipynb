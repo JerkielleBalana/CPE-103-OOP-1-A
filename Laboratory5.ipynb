{
  "nbformat": 4,
  "nbformat_minor": 0,
  "metadata": {
    "colab": {
      "provenance": [],
      "authorship_tag": "ABX9TyM8e2mLcrfBsa28aF+PWqkM",
      "include_colab_link": true
    },
    "kernelspec": {
      "name": "python3",
      "display_name": "Python 3"
    },
    "language_info": {
      "name": "python"
    }
  },
  "cells": [
    {
      "cell_type": "markdown",
      "metadata": {
        "id": "view-in-github",
        "colab_type": "text"
      },
      "source": [
        "<a href=\"https://colab.research.google.com/github/JerkielleBalana/CPE-103-OOP-1-A/blob/main/Laboratory5.ipynb\" target=\"_parent\"><img src=\"https://colab.research.google.com/assets/colab-badge.svg\" alt=\"Open In Colab\"/></a>"
      ]
    },
    {
      "cell_type": "markdown",
      "source": [
        "Exploring Built-In Functions"
      ],
      "metadata": {
        "id": "kF8nTfUbGMWj"
      }
    },
    {
      "cell_type": "code",
      "execution_count": 2,
      "metadata": {
        "colab": {
          "base_uri": "https://localhost:8080/"
        },
        "id": "xlXwagilGHFU",
        "outputId": "1e8c7694-9a87-4e15-ee8a-63174285a0fe"
      },
      "outputs": [
        {
          "name": "stdout",
          "output_type": "stream",
          "text": [
            "Propositional logic evaluator for discrete math\n",
            "How many variables? 7\n",
            "Enter the propositional logic expression: 11\n"
          ]
        }
      ],
      "source": [
        "\n",
        "print(\"Propositional logic evaluator for discrete math\")\n",
        "\n",
        "variables = int(input(\"How many variables? \"))\n",
        "total_combinations = 2**variables\n",
        "\n",
        "combinations_list = [] # store all the possible combinations\n",
        "\n",
        "\n",
        "for i in range(total_combinations):\n",
        "    bin_equivalent = bin(i)[2:]\n",
        "\n",
        "    while len(bin_equivalent) < variables:\n",
        "        bin_equivalent = \"0\" + bin_equivalent\n",
        "\n",
        "    combinations_list.append(tuple(int(val) for val in bin_equivalent))\n",
        "\n",
        "\n",
        "\n",
        "expression = input(\"Enter the propositional logic expression: \")\n",
        "\n",
        "\n",
        "if variables == 2:\n",
        "    print(\"A B f\")\n",
        "\n",
        "    for A, B in combinations_list:\n",
        "        evaluated_expression = eval(expression)\n",
        "        print(A, B, evaluated_expression)\n",
        "\n",
        "elif variables == 3:\n",
        "    print(\"A B C f\")\n",
        "    for A, B, C in combinations_list:\n",
        "        evaluated_expression = eval(expression)\n",
        "        print(A, B, C, evaluated_expression)"
      ]
    },
    {
      "cell_type": "markdown",
      "source": [
        "Using the open() function for file handling"
      ],
      "metadata": {
        "id": "zn8tXfFHG0XD"
      }
    },
    {
      "cell_type": "code",
      "source": [
        "name = \"Royce Chua\"\n",
        "file = open(\"newfile1.txt\", 'w')\n",
        "file.write(f\"Hello, {name}!\\n\")\n",
        "file.write(\"Isn't this amazing!\\n\")\n",
        "file.write(\"that we can create and write on text files\\n\")\n",
        "file.write(\"using Python.\")\n",
        "file.close()\n",
        "\n",
        "\n",
        "name = \"Royce Chua\"\n",
        "file = open(\"new.txt\", 'w')\n",
        "\n",
        "file.write(f\"Hello, {name}!\\n\")\n",
        "file.write(\"This was created using Python!\\n\")\n",
        "file.close()\n",
        "\n",
        "file = open(\"newfile1.txt\", \"r\")\n",
        "data = file.read()\n",
        "print(data)\n",
        "file.close()\n",
        "\n",
        "file = open(\"newfile1.txt\", 'a')\n",
        "file.write(\"and also by the programmer of course. \")\n",
        "file.close()"
      ],
      "metadata": {
        "colab": {
          "base_uri": "https://localhost:8080/"
        },
        "id": "2rk8n6wAG1OC",
        "outputId": "3af4ef6a-0da1-482e-9d22-823511b0f408"
      },
      "execution_count": 3,
      "outputs": [
        {
          "output_type": "stream",
          "name": "stdout",
          "text": [
            "Hello, Royce Chua!\n",
            "Isn't this amazing!\n",
            "that we can create and write on text files\n",
            "using Python.\n"
          ]
        }
      ]
    },
    {
      "cell_type": "markdown",
      "source": [
        "User-defined Functions"
      ],
      "metadata": {
        "id": "zvcy6kBVG7kK"
      }
    },
    {
      "cell_type": "code",
      "source": [
        "def generate_truthtable(number_of_variables):\n",
        "    total_combinations = 2**number_of_variables\n",
        "    combinations_list = []\n",
        "    for i in range(total_combinations):\n",
        "        bin_equivalent = bin(i)[2:]\n",
        "        while len(bin_equivalent) < number_of_variables:\n",
        "            bin_equivalent = \"0\" + bin_equivalent\n",
        "        combinations_list.append(tuple(int(val) for val in bin_equivalent))\n",
        "    return combinations_list\n",
        "\n",
        "print(generate_truthtable(3))"
      ],
      "metadata": {
        "colab": {
          "base_uri": "https://localhost:8080/"
        },
        "id": "Rp9btM3aG8AT",
        "outputId": "9380c9b7-b2f0-40ba-f4e1-14adad713248"
      },
      "execution_count": 4,
      "outputs": [
        {
          "output_type": "stream",
          "name": "stdout",
          "text": [
            "[(0, 0, 0), (0, 0, 1), (0, 1, 0), (0, 1, 1), (1, 0, 0), (1, 0, 1), (1, 1, 0), (1, 1, 1)]\n"
          ]
        }
      ]
    },
    {
      "cell_type": "code",
      "source": [
        "def generate_truthtable(number_of_variables):\n",
        "    if number_of_variables == 0:\n",
        "        return \"You need to enter an integer\"\n",
        "    else:\n",
        "        total_combinations = 2**number_of_variables\n",
        "        combinations_list = []\n",
        "    for i in range(total_combinations):\n",
        "        bin_equivalent = bin(i)[2:]\n",
        "        while len(bin_equivalent) < number_of_variables:\n",
        "            bin_equivalent = \"0\" + bin_equivalent\n",
        "        combinations_list.append(tuple(int(val) for val in bin_equivalent))\n",
        "    return combinations_list\n",
        "\n",
        "print(generate_truthtable(3))"
      ],
      "metadata": {
        "colab": {
          "base_uri": "https://localhost:8080/"
        },
        "id": "ybuo-wjPHCKD",
        "outputId": "6b6e88bd-b89d-4424-ba03-669bf88e5258"
      },
      "execution_count": 5,
      "outputs": [
        {
          "output_type": "stream",
          "name": "stdout",
          "text": [
            "[(0, 0, 0), (0, 0, 1), (0, 1, 0), (0, 1, 1), (1, 0, 0), (1, 0, 1), (1, 1, 0), (1, 1, 1)]\n"
          ]
        }
      ]
    },
    {
      "cell_type": "markdown",
      "source": [
        "Built-in Modules math module"
      ],
      "metadata": {
        "id": "-nI1DwxeHGRL"
      }
    },
    {
      "cell_type": "code",
      "source": [
        "import math\n",
        "\n",
        "def quadratic_formula(a,b,c):\n",
        "    if b**2-(4*a*c) < 0:\n",
        "        x1 = (complex(-b,math.floor(math.sqrt(abs(b**2-(4*a*c))))))/(2*a)\n",
        "        x2 = (complex(-b,-1*math.floor(math.sqrt(abs(b**2-(4*a*c))))))/(2*a)\n",
        "        return x1, x2\n",
        "    else:\n",
        "        x1 = (-b+math.sqrt(b**2-(4*a*c)))/(2*a)\n",
        "        x2 = (-b-math.sqrt(b**2-(4*a*c)))/(2*a)\n",
        "        return x1, x2\n",
        "\n",
        "print(quadratic_formula(1,2,3))"
      ],
      "metadata": {
        "colab": {
          "base_uri": "https://localhost:8080/"
        },
        "id": "lbDPYgcTHGwj",
        "outputId": "1d02e69f-0e57-410e-e065-6a232b0ecf44"
      },
      "execution_count": 6,
      "outputs": [
        {
          "output_type": "stream",
          "name": "stdout",
          "text": [
            "((-1+1j), (-1-1j))\n"
          ]
        }
      ]
    },
    {
      "cell_type": "code",
      "source": [
        "import math\n",
        "\n",
        "def angle_demo():\n",
        "    angle = math.sin(math.pi/2)\n",
        "\n",
        "    print(angle)\n",
        "\n",
        "    angle = math.sin(math.radians(90))\n",
        "\n",
        "    print(angle)\n",
        "\n",
        "angle_demo()"
      ],
      "metadata": {
        "colab": {
          "base_uri": "https://localhost:8080/"
        },
        "id": "ZBRaJymAHLYK",
        "outputId": "2515a01a-bc4f-4e65-dc42-dd5334a00ce7"
      },
      "execution_count": 7,
      "outputs": [
        {
          "output_type": "stream",
          "name": "stdout",
          "text": [
            "1.0\n",
            "1.0\n"
          ]
        }
      ]
    },
    {
      "cell_type": "markdown",
      "source": [
        "time and datetime module"
      ],
      "metadata": {
        "id": "Qz-0_YkKHMvb"
      }
    },
    {
      "cell_type": "code",
      "source": [
        "import time\n",
        "\n",
        "def pause():\n",
        "    for i in range(10,0,-1):\n",
        "        print(f\"The program will end in {i}..\")\n",
        "        time.sleep(1)\n",
        "\n",
        "pause()"
      ],
      "metadata": {
        "colab": {
          "base_uri": "https://localhost:8080/"
        },
        "id": "XQm24G-SHPVz",
        "outputId": "86a54f0d-ed87-4678-9ccf-455396e5cc5c"
      },
      "execution_count": 8,
      "outputs": [
        {
          "output_type": "stream",
          "name": "stdout",
          "text": [
            "The program will end in 10..\n",
            "The program will end in 9..\n",
            "The program will end in 8..\n",
            "The program will end in 7..\n",
            "The program will end in 6..\n",
            "The program will end in 5..\n",
            "The program will end in 4..\n",
            "The program will end in 3..\n",
            "The program will end in 2..\n",
            "The program will end in 1..\n"
          ]
        }
      ]
    },
    {
      "cell_type": "code",
      "source": [
        "def current_time():\n",
        "    t = time.strftime(\"%I:%M%p\")\n",
        "    return t\n",
        "\n",
        "print(current_time())"
      ],
      "metadata": {
        "colab": {
          "base_uri": "https://localhost:8080/"
        },
        "id": "F6GMGua3HZoa",
        "outputId": "fbdf530b-6eb6-4a71-b896-72b233fbd830"
      },
      "execution_count": 9,
      "outputs": [
        {
          "output_type": "stream",
          "name": "stdout",
          "text": [
            "09:23AM\n"
          ]
        }
      ]
    },
    {
      "cell_type": "code",
      "source": [
        "def current_date():\n",
        "    d = time.strftime(\"%b %d %Y\")\n",
        "    return d\n",
        "\n",
        "print(current_date())"
      ],
      "metadata": {
        "colab": {
          "base_uri": "https://localhost:8080/"
        },
        "id": "rJiBLq97HeWT",
        "outputId": "9788f6cc-e3a0-4631-a731-a1fd30299698"
      },
      "execution_count": 10,
      "outputs": [
        {
          "output_type": "stream",
          "name": "stdout",
          "text": [
            "Mar 15 2025\n"
          ]
        }
      ]
    },
    {
      "cell_type": "markdown",
      "source": [
        "User-defined Modules"
      ],
      "metadata": {
        "id": "6SwobPMFHgna"
      }
    },
    {
      "cell_type": "code",
      "source": [
        "import time\n",
        "\n",
        "def pause():\n",
        "    for i in range(10, 0, -1):\n",
        "        print(f\"The program will end in {i}..\")\n",
        "        time.sleep(1)\n",
        "\n",
        "def current_time():\n",
        "    t = time.strftime(\"%I:%M%p\")\n",
        "    return t\n",
        "\n",
        "def current_date():\n",
        "    d = time.strftime(\"%b %d %Y\")\n",
        "    return d\n",
        "\n",
        "print(\"The current time is\", current_time())"
      ],
      "metadata": {
        "colab": {
          "base_uri": "https://localhost:8080/"
        },
        "id": "cOG4wjkCHhL6",
        "outputId": "b9332ab5-a018-4c12-b01d-a1aa5b389c4a"
      },
      "execution_count": 11,
      "outputs": [
        {
          "output_type": "stream",
          "name": "stdout",
          "text": [
            "The current time is 09:24AM\n"
          ]
        }
      ]
    },
    {
      "cell_type": "markdown",
      "source": [
        "Task"
      ],
      "metadata": {
        "id": "70Mbm9HHHunk"
      }
    },
    {
      "cell_type": "code",
      "source": [
        "text = \"this is a example of bad words like shit , dumb and idiot\"\n",
        "censored_text = \"\"\n",
        "\n",
        "for i in text.split(\" \"):\n",
        "  if i.lower() in ['shit', 'dumb', 'idiot']:\n",
        "    censored_text += \"*\" * len(i) + \" \"\n",
        "  else:\n",
        "    censored_text += i + \" \"\n",
        "\n",
        "print(censored_text)"
      ],
      "metadata": {
        "colab": {
          "base_uri": "https://localhost:8080/"
        },
        "id": "RTqmhQ6PHvar",
        "outputId": "6be5b522-7ca7-46d1-a8d9-de2be4cd43fa"
      },
      "execution_count": 12,
      "outputs": [
        {
          "output_type": "stream",
          "name": "stdout",
          "text": [
            "this is a example of bad words like **** , **** and ***** \n"
          ]
        }
      ]
    },
    {
      "cell_type": "code",
      "source": [
        "import math\n",
        "\n",
        "def projectileMotion_solver(angle: float, speed: float):\n",
        "    g = 9.8\n",
        "    result = \"\"\n",
        "    R = (speed**2 * math.sin(2 * math.radians(angle))) / g\n",
        "    h = (speed**2 * (math.sin(math.radians(angle)))**2) / (2 * g)  # Corrected line\n",
        "    result = str(float(\"{:.4f}\".format(R))) + \" \" + str(float(\"{:.4f}\".format(h)))\n",
        "    return result\n",
        "\n",
        "result = projectileMotion_solver(20.0, 11.0).split(\" \")\n",
        "print(\"range/distance: {} meters, maximum height: {} meters\".format(result[0], result[1]))\n"
      ],
      "metadata": {
        "colab": {
          "base_uri": "https://localhost:8080/"
        },
        "id": "Izl3rjS9H7-C",
        "outputId": "3bfea8ef-33d3-4380-cada-5e31c4d3d76b"
      },
      "execution_count": 13,
      "outputs": [
        {
          "output_type": "stream",
          "name": "stdout",
          "text": [
            "range/distance: 7.9365 meters, maximum height: 0.7222 meters\n"
          ]
        }
      ]
    },
    {
      "cell_type": "code",
      "source": [
        "import math\n",
        "\n",
        "def solve_quadratic(a, b, c):\n",
        "    discriminant = b**2 - 4*a*c\n",
        "    if discriminant > 0:\n",
        "        root1 = (-b + math.sqrt(discriminant)) / (2 * a)\n",
        "        root2 = (-b - math.sqrt(discriminant)) / (2 * a)\n",
        "        return root1, root2\n",
        "    elif discriminant == 0:\n",
        "        root = -b / (2 * a)\n",
        "        return root,\n",
        "    else:\n",
        "        return \"No Real Roots\"\n",
        "\n",
        "def log_to_file(a, b, c, result):\n",
        "    with open(\"quadratic_solver_log.txt\", \"a\") as file:\n",
        "        file.write(f\"Equation: {a}x^2 + {b}x + {c} = 0\\n\")\n",
        "        file.write(f\"Solution: {result}\\n\")\n",
        "        file.write(\"-\" * 30 + \"\\n\")\n",
        "\n",
        "def main():\n",
        "    try:\n",
        "        a = float(input(\"Enter coefficient a: \"))\n",
        "        b = float(input(\"Enter coefficient b: \"))\n",
        "        c = float(input(\"Enter coefficient c: \"))\n",
        "\n",
        "        if a == 0:\n",
        "            print(\"Coefficient 'a' cannot be zero in a quadratic equation.\")\n",
        "            return\n",
        "\n",
        "        result = solve_quadratic(a, b, c)\n",
        "        print(\"Solution:\", result)\n",
        "        log_to_file(a, b, c, result)\n",
        "    except ValueError:\n",
        "        print(\"Invalid input! Please enter numerical values.\")\n",
        "\n",
        "if __name__ == \"__main__\":\n",
        "    main()"
      ],
      "metadata": {
        "colab": {
          "base_uri": "https://localhost:8080/"
        },
        "id": "3Ci_OFMmID2T",
        "outputId": "8c018de1-5ea3-4297-b615-c290222d0a98"
      },
      "execution_count": 14,
      "outputs": [
        {
          "output_type": "stream",
          "name": "stdout",
          "text": [
            "Enter coefficient a: 8\n",
            "Enter coefficient b: 16\n",
            "Enter coefficient c: 25\n",
            "Solution: No Real Roots\n"
          ]
        }
      ]
    }
  ]
}