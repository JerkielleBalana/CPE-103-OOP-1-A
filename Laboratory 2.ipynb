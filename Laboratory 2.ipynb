{
  "nbformat": 4,
  "nbformat_minor": 0,
  "metadata": {
    "colab": {
      "provenance": [],
      "authorship_tag": "ABX9TyOI8jGmMjc7f9Cin7eaGpG/",
      "include_colab_link": true
    },
    "kernelspec": {
      "name": "python3",
      "display_name": "Python 3"
    },
    "language_info": {
      "name": "python"
    }
  },
  "cells": [
    {
      "cell_type": "markdown",
      "metadata": {
        "id": "view-in-github",
        "colab_type": "text"
      },
      "source": [
        "<a href=\"https://colab.research.google.com/github/JerkielleBalana/CPE-103-OOP-1-A/blob/main/Laboratory%202.ipynb\" target=\"_parent\"><img src=\"https://colab.research.google.com/assets/colab-badge.svg\" alt=\"Open In Colab\"/></a>"
      ]
    },
    {
      "cell_type": "code",
      "execution_count": null,
      "metadata": {
        "colab": {
          "base_uri": "https://localhost:8080/"
        },
        "id": "_0veIkA9mroI",
        "outputId": "d7277898-6602-4838-94c7-33f1a43376f1"
      },
      "outputs": [
        {
          "output_type": "stream",
          "name": "stdout",
          "text": [
            "5\n"
          ]
        }
      ],
      "source": [
        "value = 5\n",
        "print(value)"
      ]
    },
    {
      "cell_type": "code",
      "source": [
        "type (value)\n"
      ],
      "metadata": {
        "colab": {
          "base_uri": "https://localhost:8080/"
        },
        "id": "O-8CUO4lnbpr",
        "outputId": "ec781d56-03f5-43b2-d401-c4de3f28bfe8"
      },
      "execution_count": null,
      "outputs": [
        {
          "output_type": "execute_result",
          "data": {
            "text/plain": [
              "int"
            ]
          },
          "metadata": {},
          "execution_count": 5
        }
      ]
    },
    {
      "cell_type": "code",
      "source": [
        "value = 5.0\n",
        "print (value)"
      ],
      "metadata": {
        "colab": {
          "base_uri": "https://localhost:8080/"
        },
        "id": "9TGbAYKso_iM",
        "outputId": "15d87051-e37f-48ba-bdec-5a1af38f043b"
      },
      "execution_count": null,
      "outputs": [
        {
          "output_type": "stream",
          "name": "stdout",
          "text": [
            "5.0\n"
          ]
        }
      ]
    },
    {
      "cell_type": "code",
      "source": [
        "value = '2+3j'\n",
        "print (value)"
      ],
      "metadata": {
        "colab": {
          "base_uri": "https://localhost:8080/"
        },
        "id": "v9opxkVUpOEC",
        "outputId": "81a0d3cb-acdc-4db7-ba26-59594b6b6015"
      },
      "execution_count": null,
      "outputs": [
        {
          "output_type": "stream",
          "name": "stdout",
          "text": [
            "2+3j\n"
          ]
        }
      ]
    },
    {
      "cell_type": "code",
      "source": [
        "value = 'Hello World'\n",
        "print (value)"
      ],
      "metadata": {
        "colab": {
          "base_uri": "https://localhost:8080/"
        },
        "id": "ZfWP8wk2pdxi",
        "outputId": "6e0bb5ce-15a1-4c54-a5f0-2d71f031a156"
      },
      "execution_count": null,
      "outputs": [
        {
          "output_type": "stream",
          "name": "stdout",
          "text": [
            "Hello World\n"
          ]
        }
      ]
    },
    {
      "cell_type": "code",
      "source": [
        "value = 'Hello World'\n",
        "print (value)"
      ],
      "metadata": {
        "colab": {
          "base_uri": "https://localhost:8080/"
        },
        "id": "qsMhWh49rAcz",
        "outputId": "1590f61b-ce28-47ac-b56b-38219131f049"
      },
      "execution_count": null,
      "outputs": [
        {
          "output_type": "stream",
          "name": "stdout",
          "text": [
            "Hello World\n"
          ]
        }
      ]
    },
    {
      "cell_type": "code",
      "source": [
        "value = 'True'\n",
        "print (value)"
      ],
      "metadata": {
        "colab": {
          "base_uri": "https://localhost:8080/"
        },
        "id": "dWqPsrzRpqdC",
        "outputId": "125906ea-9a6f-4218-8f32-9a107810bb02"
      },
      "execution_count": null,
      "outputs": [
        {
          "output_type": "stream",
          "name": "stdout",
          "text": [
            "True\n"
          ]
        }
      ]
    },
    {
      "cell_type": "code",
      "source": [
        "value = 'False'\n",
        "print (value)"
      ],
      "metadata": {
        "colab": {
          "base_uri": "https://localhost:8080/"
        },
        "id": "7bttTYpap-XS",
        "outputId": "3a19dfd1-63e7-4356-8fef-4289b7e44258"
      },
      "execution_count": null,
      "outputs": [
        {
          "output_type": "stream",
          "name": "stdout",
          "text": [
            "False\n"
          ]
        }
      ]
    },
    {
      "cell_type": "code",
      "source": [
        "value = [1,2,3,4,5]\n",
        "print (value)"
      ],
      "metadata": {
        "colab": {
          "base_uri": "https://localhost:8080/"
        },
        "id": "Udjfni6WqEMa",
        "outputId": "12b27a10-e4fd-4a43-de9e-381eadac2dd7"
      },
      "execution_count": null,
      "outputs": [
        {
          "output_type": "stream",
          "name": "stdout",
          "text": [
            "[1, 2, 3, 4, 5]\n"
          ]
        }
      ]
    },
    {
      "cell_type": "code",
      "source": [
        "value = (1,2,3,4,5)\n",
        "print (value)"
      ],
      "metadata": {
        "colab": {
          "base_uri": "https://localhost:8080/"
        },
        "id": "qYDW8IL6qQiK",
        "outputId": "7d96ab03-fd5d-4bec-e552-7ba200772673"
      },
      "execution_count": null,
      "outputs": [
        {
          "output_type": "stream",
          "name": "stdout",
          "text": [
            "(1, 2, 3, 4, 5)\n"
          ]
        }
      ]
    },
    {
      "cell_type": "code",
      "source": [
        "value = {'name': 'Your name'}\n",
        "print (value)"
      ],
      "metadata": {
        "colab": {
          "base_uri": "https://localhost:8080/"
        },
        "id": "YfViI8CJqdGi",
        "outputId": "487265e2-1c66-4dfa-aaf3-863e00b45a9e"
      },
      "execution_count": null,
      "outputs": [
        {
          "output_type": "stream",
          "name": "stdout",
          "text": [
            "{'name': 'Your name'}\n"
          ]
        }
      ]
    },
    {
      "cell_type": "code",
      "source": [
        "value = None\n",
        "print (value)"
      ],
      "metadata": {
        "colab": {
          "base_uri": "https://localhost:8080/"
        },
        "id": "w8crHxSyqrfL",
        "outputId": "94431f45-575c-48f1-dc8a-125b56df1e67"
      },
      "execution_count": null,
      "outputs": [
        {
          "output_type": "stream",
          "name": "stdout",
          "text": [
            "None\n"
          ]
        }
      ]
    },
    {
      "cell_type": "code",
      "source": [
        "value = 5\n",
        "value2 = 6\n",
        "print (value + value2)"
      ],
      "metadata": {
        "colab": {
          "base_uri": "https://localhost:8080/"
        },
        "id": "Jal7xIAJqyiT",
        "outputId": "a5b2d460-4f9f-4542-a82a-ac220bbca823"
      },
      "execution_count": null,
      "outputs": [
        {
          "output_type": "stream",
          "name": "stdout",
          "text": [
            "11\n"
          ]
        }
      ]
    },
    {
      "cell_type": "code",
      "source": [
        "value = 5\n",
        "value2 = 6\n",
        "print (value + value2)"
      ],
      "metadata": {
        "colab": {
          "base_uri": "https://localhost:8080/"
        },
        "id": "HpLHQmFFrGZ6",
        "outputId": "4106a617-d113-4c96-b398-7a57da06d754"
      },
      "execution_count": null,
      "outputs": [
        {
          "output_type": "stream",
          "name": "stdout",
          "text": [
            "11\n"
          ]
        }
      ]
    },
    {
      "cell_type": "code",
      "source": [
        "value = 5\n",
        "value = -6\n",
        "print (value + value2)"
      ],
      "metadata": {
        "colab": {
          "base_uri": "https://localhost:8080/"
        },
        "id": "w3YHLjHnrWCD",
        "outputId": "3f688158-bff0-45c3-d67d-dfaff627cf3c"
      },
      "execution_count": null,
      "outputs": [
        {
          "output_type": "stream",
          "name": "stdout",
          "text": [
            "0\n"
          ]
        }
      ]
    },
    {
      "cell_type": "code",
      "source": [
        "value = 5.0\n",
        "value2 = 6\n",
        "print (value + value2)"
      ],
      "metadata": {
        "colab": {
          "base_uri": "https://localhost:8080/"
        },
        "id": "d5QBQ3Iero-D",
        "outputId": "76422459-2c8b-48f9-8793-c96dc7031de4"
      },
      "execution_count": null,
      "outputs": [
        {
          "output_type": "stream",
          "name": "stdout",
          "text": [
            "11.0\n"
          ]
        }
      ]
    },
    {
      "cell_type": "code",
      "source": [
        "value = 5\n",
        "value2 = 6.1\n",
        "print (value + value2)"
      ],
      "metadata": {
        "colab": {
          "base_uri": "https://localhost:8080/"
        },
        "id": "MEAH3UGBr5Fy",
        "outputId": "79f19bdf-9a1b-4f4b-ce16-9c33ae425398"
      },
      "execution_count": null,
      "outputs": [
        {
          "output_type": "stream",
          "name": "stdout",
          "text": [
            "11.1\n"
          ]
        }
      ]
    },
    {
      "cell_type": "code",
      "source": [
        "value = 'Hello'\n",
        "value2 = ' World'\n",
        "print (value + value2)"
      ],
      "metadata": {
        "colab": {
          "base_uri": "https://localhost:8080/"
        },
        "id": "gK0R401jr_2J",
        "outputId": "6ee5e376-ee18-4acc-e138-1b9650cdcacf"
      },
      "execution_count": null,
      "outputs": [
        {
          "output_type": "stream",
          "name": "stdout",
          "text": [
            "Hello World\n"
          ]
        }
      ]
    },
    {
      "cell_type": "code",
      "source": [
        "value = [1,2,3]\n",
        "value2 = [4,5,6]\n",
        "print (value + value2)"
      ],
      "metadata": {
        "colab": {
          "base_uri": "https://localhost:8080/"
        },
        "id": "kyLhPPspsNY6",
        "outputId": "50f4f56f-ba71-46e7-e82b-faedbf3e3ba7"
      },
      "execution_count": null,
      "outputs": [
        {
          "output_type": "stream",
          "name": "stdout",
          "text": [
            "[1, 2, 3, 4, 5, 6]\n"
          ]
        }
      ]
    },
    {
      "cell_type": "code",
      "source": [
        "value = (1,2,3)\n",
        "value2 = (4,5,6)\n",
        "print (value + value2)"
      ],
      "metadata": {
        "colab": {
          "base_uri": "https://localhost:8080/"
        },
        "id": "APRA1s8SseU7",
        "outputId": "85355971-b5ef-4bb6-850c-4a3b107a534b"
      },
      "execution_count": null,
      "outputs": [
        {
          "output_type": "stream",
          "name": "stdout",
          "text": [
            "(1, 2, 3, 4, 5, 6)\n"
          ]
        }
      ]
    },
    {
      "cell_type": "code",
      "source": [
        "value = {'name.' :'Royce'}\n",
        "value2 = {'age':2}\n",
        "print (value, value2)"
      ],
      "metadata": {
        "colab": {
          "base_uri": "https://localhost:8080/"
        },
        "id": "iNMZYeC2ssZq",
        "outputId": "85422c7e-1feb-4261-a9ee-28a9e547e12e"
      },
      "execution_count": null,
      "outputs": [
        {
          "output_type": "stream",
          "name": "stdout",
          "text": [
            "{'name.': 'Royce'} {'age': 2}\n"
          ]
        }
      ]
    },
    {
      "cell_type": "code",
      "source": [
        "value = 30\n",
        "value2 = 4\n",
        "print (value*value2)"
      ],
      "metadata": {
        "colab": {
          "base_uri": "https://localhost:8080/"
        },
        "id": "KrkWi3r5toLE",
        "outputId": "3fc28193-cc2e-4a9f-d042-6f28adde6ead"
      },
      "execution_count": null,
      "outputs": [
        {
          "output_type": "stream",
          "name": "stdout",
          "text": [
            "120\n"
          ]
        }
      ]
    },
    {
      "cell_type": "code",
      "source": [
        "value = 30\n",
        "value2 = 4\n",
        "print (value2**2)"
      ],
      "metadata": {
        "colab": {
          "base_uri": "https://localhost:8080/"
        },
        "id": "U5ATT5X_uDcq",
        "outputId": "4e8e2a83-866f-44ed-eba6-f58296681d50"
      },
      "execution_count": null,
      "outputs": [
        {
          "output_type": "stream",
          "name": "stdout",
          "text": [
            "16\n"
          ]
        }
      ]
    },
    {
      "cell_type": "code",
      "source": [
        "value = 30\n",
        "value2 = 4\n",
        "print (value2**3)"
      ],
      "metadata": {
        "colab": {
          "base_uri": "https://localhost:8080/"
        },
        "id": "e-OfkKFFuOAr",
        "outputId": "a1e39276-2c4b-4fbb-9c29-581236cfaa35"
      },
      "execution_count": null,
      "outputs": [
        {
          "output_type": "stream",
          "name": "stdout",
          "text": [
            "64\n"
          ]
        }
      ]
    },
    {
      "cell_type": "code",
      "source": [
        "value  = 30\n",
        "value2 = 4\n",
        "print (value*value2+value2**2+1)"
      ],
      "metadata": {
        "colab": {
          "base_uri": "https://localhost:8080/"
        },
        "id": "bFXA-l8QuaLL",
        "outputId": "ff0dae09-43f1-465a-b702-ce7df4826674"
      },
      "execution_count": null,
      "outputs": [
        {
          "output_type": "stream",
          "name": "stdout",
          "text": [
            "137\n"
          ]
        }
      ]
    },
    {
      "cell_type": "code",
      "source": [
        "value = 30\n",
        "value2 = 4\n",
        "print (value/value2)\n"
      ],
      "metadata": {
        "colab": {
          "base_uri": "https://localhost:8080/"
        },
        "id": "kl-YzKCDulwp",
        "outputId": "6162401b-f27f-4af8-dddb-c0b67987828a"
      },
      "execution_count": null,
      "outputs": [
        {
          "output_type": "stream",
          "name": "stdout",
          "text": [
            "7.5\n"
          ]
        }
      ]
    },
    {
      "cell_type": "code",
      "source": [
        "value = 30\n",
        "value2 = 4\n",
        "print (value%value2)"
      ],
      "metadata": {
        "colab": {
          "base_uri": "https://localhost:8080/"
        },
        "id": "ePvDcTApustT",
        "outputId": "d9883b26-e974-4a84-a4f8-f8e601544a4a"
      },
      "execution_count": null,
      "outputs": [
        {
          "output_type": "stream",
          "name": "stdout",
          "text": [
            "2\n"
          ]
        }
      ]
    },
    {
      "cell_type": "code",
      "source": [
        "input ('Message Name')"
      ],
      "metadata": {
        "colab": {
          "base_uri": "https://localhost:8080/",
          "height": 53
        },
        "id": "EyIjt3HEuzjL",
        "outputId": "bbd2b73b-6dc4-459f-c3e5-862413226b0a"
      },
      "execution_count": null,
      "outputs": [
        {
          "name": "stdout",
          "output_type": "stream",
          "text": [
            "Message NameJerkielle\n"
          ]
        },
        {
          "output_type": "execute_result",
          "data": {
            "text/plain": [
              "'Jerkielle'"
            ],
            "application/vnd.google.colaboratory.intrinsic+json": {
              "type": "string"
            }
          },
          "metadata": {},
          "execution_count": 40
        }
      ]
    },
    {
      "cell_type": "code",
      "source": [
        "name = input ('Enter your name: ')"
      ],
      "metadata": {
        "colab": {
          "base_uri": "https://localhost:8080/"
        },
        "id": "sNzSBiCcvDlj",
        "outputId": "3f103209-8e17-4ffc-8488-62f8d5a4354c"
      },
      "execution_count": null,
      "outputs": [
        {
          "name": "stdout",
          "output_type": "stream",
          "text": [
            "Enter your name: Jerkielle\n"
          ]
        }
      ]
    },
    {
      "cell_type": "code",
      "source": [
        "name = input('Enter your name ')"
      ],
      "metadata": {
        "colab": {
          "base_uri": "https://localhost:8080/"
        },
        "id": "y8EfP2mRvPbT",
        "outputId": "f56d1d02-499b-4b19-90d1-4c01c198809b"
      },
      "execution_count": null,
      "outputs": [
        {
          "name": "stdout",
          "output_type": "stream",
          "text": [
            "Enter your name Jerkielle\n"
          ]
        }
      ]
    },
    {
      "cell_type": "code",
      "source": [
        "weight = input ('Enter your weight')"
      ],
      "metadata": {
        "colab": {
          "base_uri": "https://localhost:8080/"
        },
        "id": "mDEsATvkvcCr",
        "outputId": "3581b9c2-9347-4b3b-dc85-14b0c285b0e5"
      },
      "execution_count": null,
      "outputs": [
        {
          "name": "stdout",
          "output_type": "stream",
          "text": [
            "Enter your weight 47\n"
          ]
        }
      ]
    },
    {
      "cell_type": "code",
      "source": [
        "height = input ('Enter your height ')"
      ],
      "metadata": {
        "colab": {
          "base_uri": "https://localhost:8080/"
        },
        "id": "lzTUnlU1u6dr",
        "outputId": "f7da0722-be56-44c6-fce9-492483f87af9"
      },
      "execution_count": null,
      "outputs": [
        {
          "name": "stdout",
          "output_type": "stream",
          "text": [
            "Enter your height 160\n"
          ]
        }
      ]
    },
    {
      "cell_type": "code",
      "source": [],
      "metadata": {
        "id": "kxiFNaPKvyC8"
      },
      "execution_count": null,
      "outputs": []
    },
    {
      "cell_type": "code",
      "source": [
        "name = input ('Enter your name ')\n",
        "weight = input('Enter your weight(kg) ')\n",
        "weight = float(weight)\n",
        "height = input('Enter your height(m) ')\n",
        "height = float (height)\n",
        "bmi = weight/height**2\n",
        "print (name + ' your bmi is ' + str(bmi))\n"
      ],
      "metadata": {
        "colab": {
          "base_uri": "https://localhost:8080/"
        },
        "id": "6oypUQs-v1I8",
        "outputId": "5bb859fd-f296-4539-a4b6-39d91e672386"
      },
      "execution_count": null,
      "outputs": [
        {
          "output_type": "stream",
          "name": "stdout",
          "text": [
            "Enter your name Jerkielle\n",
            "Enter your weight(kg) 47\n",
            "Enter your height(m) 1.4\n",
            "Jerkielle your bmi is 23.9795918367347\n"
          ]
        }
      ]
    },
    {
      "cell_type": "code",
      "source": [
        "Name = input ('Enter your name ')\n",
        "weight = input('Enter your weight(kg) ')\n",
        "weight = float(weight)\n",
        "height = input('Enter your height(m) ')\n",
        "height = float (height)\n",
        "bmi = weight/height**2\n",
        "print (name + ' your bmi is ' + str(bmi))\n"
      ],
      "metadata": {
        "colab": {
          "base_uri": "https://localhost:8080/"
        },
        "id": "LGsrnYflxlYS",
        "outputId": "ef5126f0-65c2-46ea-971b-3c70312db99c"
      },
      "execution_count": null,
      "outputs": [
        {
          "output_type": "stream",
          "name": "stdout",
          "text": [
            "Enter your name John Ray\n",
            "Enter your weight(kg) 60\n",
            "Enter your height(m) 1.6764\n",
            "Jerkielle your bmi is 21.349904958763087\n"
          ]
        }
      ]
    },
    {
      "cell_type": "markdown",
      "source": [
        "1.\tGive one major difference in syntax that Python has with other languages such as C?"
      ],
      "metadata": {
        "id": "JkQ72qE8P3eO"
      }
    },
    {
      "cell_type": "markdown",
      "source": [
        "The way Python and C handle code blocks is one of their main syntax differences. Curly braces {} are used to define code blocks in C, and a semi colon ; must come at the end of each statement. Python does not use semicolon to end statements and define code blocks.\n"
      ],
      "metadata": {
        "id": "hQdcX0fzP6Gc"
      }
    },
    {
      "cell_type": "markdown",
      "source": [
        "2.\tHow does variable assignment differ in Python compared with other languages such as C?"
      ],
      "metadata": {
        "id": "FfIMYN_tQEuM"
      }
    },
    {
      "cell_type": "markdown",
      "source": [
        "Variable assignment in Python is changing and doesn't need to be declared beforehand. Python will automatically detect the type of a variable if you only set a value to it, such as x = 10. While C requires you to provide declaration of variable."
      ],
      "metadata": {
        "id": "Df5Dp_NDQIPM"
      }
    },
    {
      "cell_type": "markdown",
      "source": [
        "3.\tTry assigning variable names that start with numbers, and special characters. Is the assigning of variables that start with numbers accepted by Python? For Special Characters? Is there an exception for variables special characters?"
      ],
      "metadata": {
        "id": "WSmsHuDPQK8N"
      }
    },
    {
      "cell_type": "markdown",
      "source": [
        "In Python, variable naming conventions are quite strict, and there are specific rules regarding the use of numbers and special characters"
      ],
      "metadata": {
        "id": "_WjbF7KPQPCE"
      }
    },
    {
      "cell_type": "markdown",
      "source": [
        "4.\tDo the assignment operators (+, -, *, /, %, **) work for all data types? Why or Why not?"
      ],
      "metadata": {
        "id": "GvSXFipBQS9F"
      }
    },
    {
      "cell_type": "markdown",
      "source": [
        "Yes, These operators combine arithmetic operations with assignment. They work with numerical types (integers, floats) and can also be used with strings"
      ],
      "metadata": {
        "id": "2dm6CsMvQWR0"
      }
    },
    {
      "cell_type": "markdown",
      "source": [
        "5.\tHow does the * operator differ from the ** operator?"
      ],
      "metadata": {
        "id": "a6KSmn5jQYVN"
      }
    },
    {
      "cell_type": "markdown",
      "source": [
        "The * operator uses for multiplying the value while the ** operator uses to square the value"
      ],
      "metadata": {
        "id": "vk_lCPwJQb0_"
      }
    },
    {
      "cell_type": "markdown",
      "source": [
        "6.\tConclusion:"
      ],
      "metadata": {
        "id": "RpnRX8AHQebV"
      }
    },
    {
      "cell_type": "markdown",
      "source": [
        "In conclusion, Python programming  uses for web development, artificial intelligence, etc. The Python provides immediate feedback on errors while debugging during execution, making it easier to debug and fixing the code than C more harder to debug because the errors are reported only after the compilation, making it harder to identify issues during development."
      ],
      "metadata": {
        "id": "IvGO8GimQi7U"
      }
    }
  ]
}