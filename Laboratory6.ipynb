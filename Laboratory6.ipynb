{
  "nbformat": 4,
  "nbformat_minor": 0,
  "metadata": {
    "colab": {
      "provenance": [],
      "authorship_tag": "ABX9TyMwuBkzT8KrtmbNl9Us2zku",
      "include_colab_link": true
    },
    "kernelspec": {
      "name": "python3",
      "display_name": "Python 3"
    },
    "language_info": {
      "name": "python"
    }
  },
  "cells": [
    {
      "cell_type": "markdown",
      "metadata": {
        "id": "view-in-github",
        "colab_type": "text"
      },
      "source": [
        "<a href=\"https://colab.research.google.com/github/JerkielleBalana/CPE-103-OOP-1-A/blob/main/Laboratory6.ipynb\" target=\"_parent\"><img src=\"https://colab.research.google.com/assets/colab-badge.svg\" alt=\"Open In Colab\"/></a>"
      ]
    },
    {
      "cell_type": "code",
      "execution_count": 2,
      "metadata": {
        "colab": {
          "base_uri": "https://localhost:8080/"
        },
        "id": "Ld9-WnDlB_qM",
        "outputId": "326327cd-4123-4fa0-e3c9-4d1ecf19f6ea"
      },
      "outputs": [
        {
          "output_type": "stream",
          "name": "stdout",
          "text": [
            "Jerkielle\n",
            "Jerkielle\n"
          ]
        }
      ],
      "source": [
        "class Character():\n",
        "    def __init__(self, username):\n",
        "        self._username = username\n",
        "        self._hp = 100\n",
        "        self._mana = 100\n",
        "        self._damage = 5\n",
        "        self._str = 0\n",
        "        self._vit = 0\n",
        "        self._int = 0\n",
        "        self._agi = 0\n",
        "\n",
        "    def getUsername(self):\n",
        "        return self._username\n",
        "\n",
        "    def setUsername(self, new_username):\n",
        "        self._username = new_username\n",
        "\n",
        "    def getHp(self):\n",
        "        return self._hp\n",
        "\n",
        "    def setHp(self, new_hp):\n",
        "        self._hp = new_hp\n",
        "\n",
        "    def getDamage(self):\n",
        "        return self._damage\n",
        "\n",
        "    def setDamage(self, new_damage):\n",
        "        self._damage = new_damage\n",
        "\n",
        "    def getStr(self):\n",
        "        return self._str\n",
        "\n",
        "    def setStr(self, new_str):\n",
        "        self._str = new_str\n",
        "\n",
        "    def getVit(self):\n",
        "        return self._vit\n",
        "\n",
        "    def setVit(self, new_vit):\n",
        "        self._vit = new_vit\n",
        "\n",
        "    def getInt(self):\n",
        "        return self._int\n",
        "\n",
        "    def setInt(self, new_int):\n",
        "        self._int = new_int\n",
        "\n",
        "    def getAgi(self):\n",
        "        return self._agi\n",
        "\n",
        "    def setAgi(self, new_agi):\n",
        "        self._agi = new_agi\n",
        "\n",
        "    def reduceHp(self, damage_amount):\n",
        "        self._hp = self._hp - damage_amount\n",
        "\n",
        "    def addHp(self, heal_amount):\n",
        "        self._hp = self._hp + heal_amount\n",
        "\n",
        "\n",
        "character1 = Character(\"Jerkielle\")\n",
        "print(character1._username)\n",
        "print(character1.getUsername())"
      ]
    },
    {
      "cell_type": "markdown",
      "source": [
        "Observation: The program directly prints character1._username, bypassing the getter method, which contradicts the purpose of encapsulation."
      ],
      "metadata": {
        "id": "2mGwiIqzCYrC"
      }
    },
    {
      "cell_type": "markdown",
      "source": [
        "Single Inheritance"
      ],
      "metadata": {
        "id": "CmsaJ6P2DMN5"
      }
    },
    {
      "cell_type": "code",
      "source": [
        "class Novice(Character):\n",
        "    def basicAttack(self, character):\n",
        "        character.reduceHp(self.getDamage())\n",
        "        print(f\"{self.getUsername()} performed Basic Attack! -{self.getDamage()}\")\n",
        "\n",
        "\n",
        "character1 = Novice(\"Jerkielle\")\n",
        "print(character1.getUsername())\n",
        "print(character1.getHp())"
      ],
      "metadata": {
        "colab": {
          "base_uri": "https://localhost:8080/"
        },
        "id": "GSPvxtoODOgp",
        "outputId": "935b3d4d-317e-4aa1-b883-49500335807d"
      },
      "execution_count": 5,
      "outputs": [
        {
          "output_type": "stream",
          "name": "stdout",
          "text": [
            "Jerkielle\n",
            "100\n"
          ]
        }
      ]
    },
    {
      "cell_type": "markdown",
      "source": [
        "Multi- Level Inheritance"
      ],
      "metadata": {
        "id": "OPQhqjdPDtL0"
      }
    },
    {
      "cell_type": "code",
      "source": [
        "class Swordsman(Novice):\n",
        "    def __init__(self, username):\n",
        "        super().__init__(username)\n",
        "        self.setStr(5)\n",
        "        self.setVit(10)\n",
        "        self.setHp(self.getHp() + self.getVit())\n",
        "\n",
        "    def slashAttack(self, character):\n",
        "        new_damage = self.getDamage() + self.getStr()\n",
        "        character.reduceHp(new_damage)\n",
        "        print(f\"{self.getUsername()} performed Slash Attack! -{new_damage}\")\n",
        "\n",
        "\n",
        "import random\n",
        "\n",
        "class Archer(Novice):\n",
        "    def __init__(self, username):\n",
        "        super().__init__(username)\n",
        "        self.setAgi(5)\n",
        "        self.setInt(5)\n",
        "        self.setVit(5)\n",
        "        self.setHp(self.getHp() + self.getVit())\n",
        "\n",
        "    def rangedAttack(self, character):\n",
        "        new_damage = self.getDamage() + random.randint(0, self.getInt())\n",
        "        character.reduceHp(new_damage)\n",
        "        print(f\"{self.getUsername()} performed Ranged Attack! -{new_damage}\")\n",
        "\n",
        "\n",
        "class Magician(Novice):\n",
        "    def __init__(self, username):\n",
        "        super().__init__(username)\n",
        "        self.setInt(10)\n",
        "        self.setVit(5)\n",
        "        self.setHp(self.getHp() + self.getVit())\n",
        "\n",
        "    def heal(self):\n",
        "        self.addHp(self.getInt())\n",
        "        print(f\"{self.getUsername()} performed Heal! +{self.getInt()}\")\n",
        "\n",
        "    def magicAttack(self, character):\n",
        "        new_damage = self.getDamage() + self.getInt()\n",
        "        character.reduceHp(new_damage)\n",
        "        print(f\"{self.getUsername()} performed Magic Attack! -{new_damage}\")\n",
        "\n",
        "\n",
        "Character1 = Swordsman(\"Royce\")\n",
        "Character2 = Magician(\"Archie\")\n",
        "\n",
        "print(f\"{Character1.getUsername()} HP: {Character1.getHp()}\")\n",
        "print(f\"{Character2.getUsername()} HP: {Character2.getHp()}\")\n",
        "\n",
        "Character1.slashAttack(Character2)\n",
        "Character1.basicAttack(Character2)\n",
        "\n",
        "print(f\"{Character1.getUsername()} HP: {Character1.getHp()}\")\n",
        "print(f\"{Character2.getUsername()} HP: {Character2.getHp()}\")\n",
        "\n",
        "Character2.heal()\n",
        "Character2.magicAttack(Character1)\n",
        "\n",
        "print(f\"{Character1.getUsername()} HP: {Character1.getHp()}\")\n",
        "print(f\"{Character2.getUsername()} HP: {Character2.getHp()}\")"
      ],
      "metadata": {
        "colab": {
          "base_uri": "https://localhost:8080/"
        },
        "id": "26D979TbDx-D",
        "outputId": "ba51f05d-205c-4898-edcb-53dd3ad5a2bc"
      },
      "execution_count": 6,
      "outputs": [
        {
          "output_type": "stream",
          "name": "stdout",
          "text": [
            "Royce HP: 110\n",
            "Archie HP: 105\n",
            "Royce performed Slash Attack! -10\n",
            "Royce performed Basic Attack! -5\n",
            "Royce HP: 110\n",
            "Archie HP: 90\n",
            "Archie performed Heal! +10\n",
            "Archie performed Magic Attack! -15\n",
            "Royce HP: 95\n",
            "Archie HP: 100\n"
          ]
        }
      ]
    },
    {
      "cell_type": "markdown",
      "source": [
        "Observation: Swordsman, Archer, and Magician inherit from Novice, which already extends Character. This multi-level inheritance effectively organizes different character types."
      ],
      "metadata": {
        "id": "QNKqncMxEoBz"
      }
    },
    {
      "cell_type": "markdown",
      "source": [
        "Multiple Inheritance"
      ],
      "metadata": {
        "id": "qXvtXxF3Et5K"
      }
    },
    {
      "cell_type": "code",
      "source": [
        "class Boss(Swordsman, Archer, Magician):  # Multiple inheritance\n",
        "    def __init__(self, username):\n",
        "        Swordsman.__init__(self, username)  # Initialize Swordsman\n",
        "        Archer.__init__(self, username)     # Initialize Archer\n",
        "        Magician.__init__(self, username)   # Initialize Magician\n",
        "\n",
        "        self.setStr(10)\n",
        "        self.setVit(25)\n",
        "        self.setInt(5)\n",
        "        self.setHp(self.getHp() + self.getVit())\n",
        "\n",
        "    # Example of overriding a method (e.g., basicAttack) if needed:\n",
        "    # def basicAttack(self, character):\n",
        "    #     print(\"Boss performs a SUPER basic attack!\")\n",
        "    #     # Add boss-specific attack logic here...\n",
        "\n",
        "\n",
        "Character1 = Swordsman(\"Royce\")\n",
        "Character2 = Boss(\"Archie\")\n",
        "\n",
        "print(f\"{Character1.getUsername()} HP: {Character1.getHp()}\")\n",
        "print(f\"{Character2.getUsername()} HP: {Character2.getHp()}\")\n",
        "\n",
        "Character1.slashAttack(Character2)\n",
        "Character1.basicAttack(Character2)\n",
        "\n",
        "print(f\"{Character1.getUsername()} HP: {Character1.getHp()}\")\n",
        "print(f\"{Character2.getUsername()} HP: {Character2.getHp()}\")\n",
        "\n",
        "Character2.heal()\n",
        "Character2.basicAttack(Character1)\n",
        "Character2.slashAttack(Character1)\n",
        "Character2.rangedAttack(Character1)\n",
        "Character2.magicAttack(Character1)\n",
        "\n",
        "print(f\"{Character1.getUsername()} HP: {Character1.getHp()}\")\n",
        "print(f\"{Character2.getUsername()} HP: {Character2.getHp()}\")"
      ],
      "metadata": {
        "colab": {
          "base_uri": "https://localhost:8080/"
        },
        "id": "d_28vxmQEvji",
        "outputId": "cc4e948f-7f74-4e7a-cbbe-07a68f5133f8"
      },
      "execution_count": 7,
      "outputs": [
        {
          "output_type": "stream",
          "name": "stdout",
          "text": [
            "Royce HP: 110\n",
            "Archie HP: 130\n",
            "Royce performed Slash Attack! -10\n",
            "Royce performed Basic Attack! -5\n",
            "Royce HP: 110\n",
            "Archie HP: 115\n",
            "Archie performed Heal! +5\n",
            "Archie performed Basic Attack! -5\n",
            "Archie performed Slash Attack! -15\n",
            "Archie performed Ranged Attack! -10\n",
            "Archie performed Magic Attack! -10\n",
            "Royce HP: 70\n",
            "Archie HP: 120\n"
          ]
        }
      ]
    },
    {
      "cell_type": "markdown",
      "source": [
        "Task"
      ],
      "metadata": {
        "id": "7k3uQ6rIE0d6"
      }
    },
    {
      "cell_type": "code",
      "source": [
        "import random\n",
        "\n",
        "def single_player_mode():\n",
        "    \"\"\"\n",
        "    In single player mode, the player starts as a Novice.\n",
        "    After winning 2 matches, the player can choose a new role (Swordsman, Archer, or Magician).\n",
        "    The opponent is always a Boss named 'Monster'.\n",
        "    \"\"\"\n",
        "    wins = 0\n",
        "    player_name = input(\"Enter your username: \")\n",
        "    # Start as Novice\n",
        "    player = Novice(player_name)\n",
        "    print(f\"Welcome, {player.getUsername()}! You are starting as a Novice.\")\n",
        "\n",
        "    while True:\n",
        "        print(\"\\n--- New Match ---\")\n",
        "        boss = Boss(\"Monster\")\n",
        "\n",
        "\n",
        "        combatants = [player, boss]\n",
        "        random.shuffle(combatants)\n",
        "        print(f\"Turn order: {combatants[0].getUsername()} will attack first.\")\n",
        "\n",
        "\n",
        "        while player.getHp() > 0 and boss.getHp() > 0:\n",
        "            for combatant in combatants:\n",
        "\n",
        "                if player.getHp() <= 0 or boss.getHp() <= 0:\n",
        "                    break\n",
        "\n",
        "                if combatant == player:\n",
        "                    print(f\"{player.getUsername()} attacks!\")\n",
        "\n",
        "                    damage = random.randint(10, 20)\n",
        "\n",
        "                    boss.reduceHp(damage)\n",
        "                    print(f\"You inflicted {damage} damage to {boss.getUsername()}. (Boss HP: {max(boss.getHp(), 0)})\")\n",
        "                else:\n",
        "                    print(f\"{boss.getUsername()} attacks!\")\n",
        "                    damage = random.randint(5, 15)\n",
        "\n",
        "                    player.reduceHp(damage)\n",
        "                    print(f\"{boss.getUsername()} inflicted {damage} damage to {player.getUsername()}. (Your HP: {max(player.getHp(), 0)})\")\n",
        "\n",
        "\n",
        "        if player.getHp() > 0:\n",
        "            wins += 1\n",
        "            print(\"You won this match!\")\n",
        "        else:\n",
        "            print(\"You lost this match!\")\n",
        "\n",
        "        print(f\"Total Wins: {wins}\")\n",
        "\n",
        "\n",
        "        if wins >= 2:\n",
        "            print(\"\\nCongratulations! You've won 2 matches.\")\n",
        "            print(\"You can now select a new role:\")\n",
        "            print(\"1. Swordsman\")\n",
        "            print(\"2. Archer\")\n",
        "            print(\"3. Magician\")\n",
        "            choice = input(\"Enter your choice (1-3): \")\n",
        "            if choice == \"1\":\n",
        "                player = Swordsman(player_name)\n",
        "            elif choice == \"2\":\n",
        "                player = Archer(player_name)\n",
        "            elif choice == \"3\":\n",
        "                player = Magician(player_name)\n",
        "            else:\n",
        "                print(\"Invalid choice. Continuing as your current role.\")\n",
        "\n",
        "\n",
        "        play_again = input(\"Do you want to play another match? (y/n): \")\n",
        "        if play_again.lower() != \"y\":\n",
        "            break\n",
        "\n",
        "\n",
        "        current_role = type(player)\n",
        "        player = current_role(player_name)\n",
        "\n",
        "def player_vs_player_mode():\n",
        "    \"\"\"\n",
        "    In Player vs Player mode, both players choose among Novice, Swordsman, Archer, or Magician (Boss is not allowed).\n",
        "    The match continues until one player's HP drops to zero.\n",
        "    \"\"\"\n",
        "    print(\"Player vs Player mode selected.\")\n",
        "    player1_name = input(\"Enter Player 1 username: \")\n",
        "    player2_name = input(\"Enter Player 2 username: \")\n",
        "\n",
        "    print(\"\\nAvailable roles:\")\n",
        "    print(\"1. Novice\")\n",
        "    print(\"2. Swordsman\")\n",
        "    print(\"3. Archer\")\n",
        "    print(\"4. Magician\")\n",
        "\n",
        "    choice1 = input(f\"{player1_name}, choose your role (1-4): \")\n",
        "    choice2 = input(f\"{player2_name}, choose your role (1-4): \")\n",
        "\n",
        "    role_dict = {\"1\": Novice, \"2\": Swordsman, \"3\": Archer, \"4\": Magician}\n",
        "    if choice1 in role_dict:\n",
        "        player1 = role_dict[choice1](player1_name)\n",
        "    else:\n",
        "        print(\"Invalid choice for Player 1. Defaulting to Novice.\")\n",
        "        player1 = Novice(player1_name)\n",
        "\n",
        "    if choice2 in role_dict:\n",
        "        player2 = role_dict[choice2](player2_name)\n",
        "    else:\n",
        "        print(\"Invalid choice for Player 2. Defaulting to Novice.\")\n",
        "        player2 = Novice(player2_name)\n",
        "\n",
        "    wins1 = 0\n",
        "    wins2 = 0\n",
        "\n",
        "    while True:\n",
        "        print(\"\\n--- New Match ---\")\n",
        "\n",
        "        combatants = [player1, player2]\n",
        "        random.shuffle(combatants)\n",
        "        print(f\"Turn order: {combatants[0].getUsername()} will attack first.\")\n",
        "\n",
        "\n",
        "        while player1.getHp() > 0 and player2.getHp() > 0:\n",
        "            for combatant in combatants:\n",
        "                if player1.getHp() <= 0 or player2.getHp() <= 0:\n",
        "                    break\n",
        "                print(f\"{combatant.getUsername()} attacks!\")\n",
        "                damage = random.randint(10, 20)\n",
        "                if combatant == player1:\n",
        "                    player2.reduceHp(damage)\n",
        "                    print(f\"{player1.getUsername()} inflicted {damage} damage to {player2.getUsername()}. (Player 2 HP: {max(player2.getHp(), 0)})\")\n",
        "                else:\n",
        "                    player1.reduceHp(damage)\n",
        "                    print(f\"{player2.getUsername()} inflicted {damage} damage to {player1.getUsername()}. (Player 1 HP: {max(player1.getHp(), 0)})\")\n",
        "\n",
        "\n",
        "        if player1.getHp() > 0:\n",
        "            wins1 += 1\n",
        "            print(f\"{player1.getUsername()} won this match!\")\n",
        "        else:\n",
        "            wins2 += 1\n",
        "            print(f\"{player2.getUsername()} won this match!\")\n",
        "\n",
        "        print(f\"Score: {player1.getUsername()} {wins1} - {wins2} {player2.getUsername()}\")\n",
        "\n",
        "        play_again = input(\"Do you want to play another match? (y/n): \")\n",
        "        if play_again.lower() != \"y\":\n",
        "            break\n",
        "\n",
        "\n",
        "        role1 = type(player1)\n",
        "        role2 = type(player2)\n",
        "        player1 = role1(player1_name)\n",
        "        player2 = role2(player2_name)\n",
        "\n",
        "def main():\n",
        "    print(\"Welcome to the Game!\")\n",
        "    print(\"Select game mode:\")\n",
        "    print(\"1. Single Player\")\n",
        "    print(\"2. Player vs Player\")\n",
        "    mode = input(\"Enter mode (1 or 2): \")\n",
        "\n",
        "    if mode == \"1\":\n",
        "        single_player_mode()\n",
        "    elif mode == \"2\":\n",
        "        player_vs_player_mode()\n",
        "    else:\n",
        "        print(\"Invalid mode selected.\")\n",
        "\n",
        "if __name__ == \"__main__\":\n",
        "    main()"
      ],
      "metadata": {
        "colab": {
          "base_uri": "https://localhost:8080/"
        },
        "id": "vsiHyG9UE7uK",
        "outputId": "a23ad518-3ba3-4e6e-dff4-87684d1a6ae0"
      },
      "execution_count": 8,
      "outputs": [
        {
          "name": "stdout",
          "output_type": "stream",
          "text": [
            "Welcome to the Game!\n",
            "Select game mode:\n",
            "1. Single Player\n",
            "2. Player vs Player\n",
            "Enter mode (1 or 2): 2\n",
            "Player vs Player mode selected.\n",
            "Enter Player 1 username: Jerkielle\n",
            "Enter Player 2 username: Roen\n",
            "\n",
            "Available roles:\n",
            "1. Novice\n",
            "2. Swordsman\n",
            "3. Archer\n",
            "4. Magician\n",
            "Jerkielle, choose your role (1-4): 2\n",
            "Roen, choose your role (1-4): 3\n",
            "\n",
            "--- New Match ---\n",
            "Turn order: Roen will attack first.\n",
            "Roen attacks!\n",
            "Roen inflicted 16 damage to Jerkielle. (Player 1 HP: 94)\n",
            "Jerkielle attacks!\n",
            "Jerkielle inflicted 17 damage to Roen. (Player 2 HP: 88)\n",
            "Roen attacks!\n",
            "Roen inflicted 10 damage to Jerkielle. (Player 1 HP: 84)\n",
            "Jerkielle attacks!\n",
            "Jerkielle inflicted 10 damage to Roen. (Player 2 HP: 78)\n",
            "Roen attacks!\n",
            "Roen inflicted 10 damage to Jerkielle. (Player 1 HP: 74)\n",
            "Jerkielle attacks!\n",
            "Jerkielle inflicted 18 damage to Roen. (Player 2 HP: 60)\n",
            "Roen attacks!\n",
            "Roen inflicted 20 damage to Jerkielle. (Player 1 HP: 54)\n",
            "Jerkielle attacks!\n",
            "Jerkielle inflicted 14 damage to Roen. (Player 2 HP: 46)\n",
            "Roen attacks!\n",
            "Roen inflicted 20 damage to Jerkielle. (Player 1 HP: 34)\n",
            "Jerkielle attacks!\n",
            "Jerkielle inflicted 10 damage to Roen. (Player 2 HP: 36)\n",
            "Roen attacks!\n",
            "Roen inflicted 19 damage to Jerkielle. (Player 1 HP: 15)\n",
            "Jerkielle attacks!\n",
            "Jerkielle inflicted 18 damage to Roen. (Player 2 HP: 18)\n",
            "Roen attacks!\n",
            "Roen inflicted 15 damage to Jerkielle. (Player 1 HP: 0)\n",
            "Roen won this match!\n",
            "Score: Jerkielle 0 - 1 Roen\n",
            "Do you want to play another match? (y/n): n\n"
          ]
        }
      ]
    }
  ]
}