{
  "cells": [
    {
      "cell_type": "markdown",
      "metadata": {
        "id": "view-in-github",
        "colab_type": "text"
      },
      "source": [
        "<a href=\"https://colab.research.google.com/github/JerkielleBalana/CPE-103-OOP-1-A/blob/main/Midterm.ipynb\" target=\"_parent\"><img src=\"https://colab.research.google.com/assets/colab-badge.svg\" alt=\"Open In Colab\"/></a>"
      ]
    },
    {
      "cell_type": "markdown",
      "metadata": {
        "id": "Y9KVMjudTgbm"
      },
      "source": [
        "1-10"
      ]
    },
    {
      "cell_type": "code",
      "execution_count": null,
      "metadata": {
        "id": "uUiF0d8NQD_8"
      },
      "outputs": [],
      "source": [
        "i = 1\n",
        "while True:\n",
        " if i%3 == 0 :\n",
        "    break\n",
        "    print(i)\n",
        "    i += 1\n"
      ]
    },
    {
      "cell_type": "markdown",
      "metadata": {
        "id": "VLPw7VsOUVbu"
      },
      "source": [
        "11-20"
      ]
    },
    {
      "cell_type": "code",
      "execution_count": null,
      "metadata": {
        "colab": {
          "base_uri": "https://localhost:8080/"
        },
        "id": "ZoeQQUBBUXxm",
        "outputId": "d3a874c5-5152-4027-fed5-26a85b563c78"
      },
      "outputs": [
        {
          "output_type": "stream",
          "name": "stdout",
          "text": [
            "0\n",
            "1\n",
            "2\n"
          ]
        }
      ],
      "source": [
        "i = 0\n",
        "while i < 5:\n",
        "  print(i)\n",
        "  i += 1\n",
        "  if i == 3:\n",
        "    break\n",
        "else:\n",
        "  print(0)"
      ]
    },
    {
      "cell_type": "markdown",
      "metadata": {
        "id": "wGTG44erUtm7"
      },
      "source": [
        "21=30"
      ]
    },
    {
      "cell_type": "code",
      "execution_count": null,
      "metadata": {
        "id": "gIbrf9flUxE9"
      },
      "outputs": [],
      "source": [
        "def f1():\n",
        "  x=15\n",
        "  print(x)\n",
        "  x=12\n",
        "  f1()"
      ]
    },
    {
      "cell_type": "markdown",
      "metadata": {
        "id": "ZGWWdl3EVWLt"
      },
      "source": [
        "31-40"
      ]
    },
    {
      "cell_type": "code",
      "execution_count": null,
      "metadata": {
        "id": "PyFuyBHbVXxt",
        "colab": {
          "base_uri": "https://localhost:8080/"
        },
        "outputId": "00b62cd8-1652-4576-8c8f-1b7feecad9ba"
      },
      "outputs": [
        {
          "output_type": "stream",
          "name": "stdout",
          "text": [
            "Default Name\n"
          ]
        }
      ],
      "source": [
        "class Person():\n",
        "    def __init__(self):\n",
        "        self.__name = \"Default Name\"\n",
        "\n",
        "person1 = Person()\n",
        "print(person1._Person__name)"
      ]
    },
    {
      "cell_type": "markdown",
      "source": [
        "41-60"
      ],
      "metadata": {
        "id": "LhU0cdWiWYud"
      }
    },
    {
      "cell_type": "code",
      "source": [
        "class Person():\n",
        "  def __init__(self): self.__name = \"Default Name\"\n",
        "person1=Person()\n",
        "person2 = Person()\n",
        "print(person1)\n",
        "print(person2)\n",
        "\n"
      ],
      "metadata": {
        "colab": {
          "base_uri": "https://localhost:8080/"
        },
        "id": "Z1amOnVtWavV",
        "outputId": "9e5c8102-6526-4f8e-cc33-ac4b3d1a3a93"
      },
      "execution_count": null,
      "outputs": [
        {
          "output_type": "stream",
          "name": "stdout",
          "text": [
            "<__main__.Person object at 0x793f96fbff10>\n",
            "<__main__.Person object at 0x793f943a28d0>\n"
          ]
        }
      ]
    },
    {
      "cell_type": "markdown",
      "source": [
        "61-80"
      ],
      "metadata": {
        "id": "0XttMKq0XScH"
      }
    },
    {
      "cell_type": "code",
      "source": [
        "class Student():\n",
        "  def __init__(self,student_number,name):\n",
        "    self.stu_number = student_number\n",
        "    self.stu_name = name\n",
        "class DSCOfficer(Student):\n",
        "  def __init__(self,department):\n",
        "    self.department = department\n",
        "    self.event_list = []\n",
        "    def initiateEvent(self, name):\n",
        "      self.event_list.append({\"name\":name})\n",
        "      officer1 = DSCOfficer(\"CpE\")\n",
        "      officer1.initiateEvent(\"General Assembly\")\n",
        "      print(officer1.event_list)"
      ],
      "metadata": {
        "id": "lmwKnGKaXmQt"
      },
      "execution_count": null,
      "outputs": []
    }
  ],
  "metadata": {
    "colab": {
      "provenance": [],
      "authorship_tag": "ABX9TyORVYuy7XzcNajJCXKs7wr9",
      "include_colab_link": true
    },
    "kernelspec": {
      "display_name": "Python 3",
      "name": "python3"
    },
    "language_info": {
      "name": "python"
    }
  },
  "nbformat": 4,
  "nbformat_minor": 0
}